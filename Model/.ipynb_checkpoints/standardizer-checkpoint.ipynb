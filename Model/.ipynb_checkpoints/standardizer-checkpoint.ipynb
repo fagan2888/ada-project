{
 "cells": [
  {
   "cell_type": "code",
   "execution_count": 10,
   "metadata": {
    "collapsed": true
   },
   "outputs": [],
   "source": [
    "import pickle"
   ]
  },
  {
   "cell_type": "code",
   "execution_count": 11,
   "metadata": {
    "collapsed": false
   },
   "outputs": [],
   "source": [
    "def standardize(X):\n",
    "    f = open('mean.pckl', 'rb')\n",
    "    meanX = pickle.load(f)\n",
    "    f.close()\n",
    "    \n",
    "    f = open('std.pckl', 'rb')\n",
    "    stdX = pickle.load(f)\n",
    "    f.close()\n",
    "    \n",
    "    return (X - meanX) / stdX"
   ]
  }
 ],
 "metadata": {
  "kernelspec": {
   "display_name": "Python [conda root]",
   "language": "python",
   "name": "conda-root-py"
  },
  "language_info": {
   "codemirror_mode": {
    "name": "ipython",
    "version": 3
   },
   "file_extension": ".py",
   "mimetype": "text/x-python",
   "name": "python",
   "nbconvert_exporter": "python",
   "pygments_lexer": "ipython3",
   "version": "3.5.2"
  }
 },
 "nbformat": 4,
 "nbformat_minor": 1
}
