{
 "cells": [
  {
   "cell_type": "code",
   "execution_count": 2,
   "metadata": {
    "collapsed": false
   },
   "outputs": [],
   "source": [
    "import tensorflow as tf\n",
    "import numpy as np\n",
    "import pandas as pd\n",
    "from sklearn.model_selection import KFold\n",
    "import os\n",
    "import matplotlib.pyplot as plt"
   ]
  },
  {
   "cell_type": "code",
   "execution_count": 3,
   "metadata": {
    "collapsed": false
   },
   "outputs": [
    {
     "name": "stderr",
     "output_type": "stream",
     "text": [
      "C:\\Program Files\\Anaconda3\\lib\\site-packages\\IPython\\core\\interactiveshell.py:2717: DtypeWarning: Columns (2,3,4,5,6,7,8,9,10,11,12,13,14,15,16,17,18,19,20,21,22,23,24,25,26,27,28,29,30,31,32,33,34,35,36,37,38,39,40,41,42,43,44,45,46,47,48,49,50,51,52,53,54,55,56,57,58,59,60,61,62,63,64,65,66,67,68,69,70,71,72,73,74,75,76,77,78,79,80,81,82,83,84,85,86,87,88,89,90,91,92,93,94,95,96,97,98,99,100,101,102,103,121,122,123,124,125,126,127,128,129,130,131,132,133,134,135,136,137,155,156,157,158,159,160,161,162,163,164,165,166,167,168,169,170,171) have mixed types. Specify dtype option on import or set low_memory=False.\n",
      "  interactivity=interactivity, compiler=compiler, result=result)\n"
     ]
    }
   ],
   "source": [
    "df = pd.read_csv(\"../features/features_global.csv\", sep=',', header=None)"
   ]
  },
  {
   "cell_type": "code",
   "execution_count": 4,
   "metadata": {
    "collapsed": false
   },
   "outputs": [
    {
     "data": {
      "text/plain": [
       "0"
      ]
     },
     "execution_count": 4,
     "metadata": {},
     "output_type": "execute_result"
    }
   ],
   "source": [
    "df.isnull().sum().sum()"
   ]
  },
  {
   "cell_type": "code",
   "execution_count": 5,
   "metadata": {
    "collapsed": false
   },
   "outputs": [
    {
     "data": {
      "text/plain": [
       "blue      7037\n",
       "purple    6696\n",
       "Name: 0, dtype: int64"
      ]
     },
     "execution_count": 5,
     "metadata": {},
     "output_type": "execute_result"
    }
   ],
   "source": [
    "df.ix[:,0].value_counts()\n"
   ]
  },
  {
   "cell_type": "code",
   "execution_count": 6,
   "metadata": {
    "collapsed": false
   },
   "outputs": [],
   "source": [
    "df = df.fillna(0)"
   ]
  },
  {
   "cell_type": "code",
   "execution_count": 7,
   "metadata": {
    "collapsed": false
   },
   "outputs": [],
   "source": [
    "no_nulls = df.apply(lambda row : \n",
    "          any([ e == (\"null\") for e in row ])\n",
    "       , axis=1) "
   ]
  },
  {
   "cell_type": "code",
   "execution_count": 8,
   "metadata": {
    "collapsed": false
   },
   "outputs": [
    {
     "data": {
      "text/plain": [
       "False"
      ]
     },
     "execution_count": 8,
     "metadata": {},
     "output_type": "execute_result"
    }
   ],
   "source": [
    "no_nulls[212]"
   ]
  },
  {
   "cell_type": "code",
   "execution_count": 9,
   "metadata": {
    "collapsed": false
   },
   "outputs": [
    {
     "data": {
      "text/html": [
       "<div>\n",
       "<table border=\"1\" class=\"dataframe\">\n",
       "  <thead>\n",
       "    <tr style=\"text-align: right;\">\n",
       "      <th></th>\n",
       "      <th>0</th>\n",
       "      <th>1</th>\n",
       "      <th>2</th>\n",
       "      <th>3</th>\n",
       "      <th>4</th>\n",
       "      <th>5</th>\n",
       "      <th>6</th>\n",
       "      <th>7</th>\n",
       "      <th>8</th>\n",
       "      <th>9</th>\n",
       "      <th>...</th>\n",
       "      <th>162</th>\n",
       "      <th>163</th>\n",
       "      <th>164</th>\n",
       "      <th>165</th>\n",
       "      <th>166</th>\n",
       "      <th>167</th>\n",
       "      <th>168</th>\n",
       "      <th>169</th>\n",
       "      <th>170</th>\n",
       "      <th>171</th>\n",
       "    </tr>\n",
       "  </thead>\n",
       "  <tbody>\n",
       "    <tr>\n",
       "      <th>212</th>\n",
       "      <td>purple</td>\n",
       "      <td>3032929911</td>\n",
       "      <td>0.428571</td>\n",
       "      <td>394.617</td>\n",
       "      <td>1.92308</td>\n",
       "      <td>0.923077</td>\n",
       "      <td>2.78571</td>\n",
       "      <td>158539</td>\n",
       "      <td>21724.8</td>\n",
       "      <td>24917.4</td>\n",
       "      <td>...</td>\n",
       "      <td>30202.8</td>\n",
       "      <td>531.632</td>\n",
       "      <td>5.44737</td>\n",
       "      <td>5.03158</td>\n",
       "      <td>0.363158</td>\n",
       "      <td>-0.242105</td>\n",
       "      <td>260.316</td>\n",
       "      <td>413.189</td>\n",
       "      <td>-8.27895</td>\n",
       "      <td>1.35263</td>\n",
       "    </tr>\n",
       "  </tbody>\n",
       "</table>\n",
       "<p>1 rows × 172 columns</p>\n",
       "</div>"
      ],
      "text/plain": [
       "        0           1         2        3        4         5        6    \\\n",
       "212  purple  3032929911  0.428571  394.617  1.92308  0.923077  2.78571   \n",
       "\n",
       "        7        8        9     ...         162      163      164      165  \\\n",
       "212  158539  21724.8  24917.4   ...     30202.8  531.632  5.44737  5.03158   \n",
       "\n",
       "          166       167      168      169      170      171  \n",
       "212  0.363158 -0.242105  260.316  413.189 -8.27895  1.35263  \n",
       "\n",
       "[1 rows x 172 columns]"
      ]
     },
     "execution_count": 9,
     "metadata": {},
     "output_type": "execute_result"
    }
   ],
   "source": [
    "df.loc[[212]]"
   ]
  },
  {
   "cell_type": "code",
   "execution_count": 10,
   "metadata": {
    "collapsed": false
   },
   "outputs": [
    {
     "data": {
      "text/plain": [
       "(13733,)"
      ]
     },
     "execution_count": 10,
     "metadata": {},
     "output_type": "execute_result"
    }
   ],
   "source": [
    "no_nulls.shape"
   ]
  },
  {
   "cell_type": "code",
   "execution_count": 11,
   "metadata": {
    "collapsed": false
   },
   "outputs": [],
   "source": [
    "df = df[~no_nulls]\n",
    "df = df.apply(pd.to_numeric, errors='ignore')\n"
   ]
  },
  {
   "cell_type": "code",
   "execution_count": 12,
   "metadata": {
    "collapsed": false,
    "scrolled": true
   },
   "outputs": [
    {
     "data": {
      "text/html": [
       "<div>\n",
       "<table border=\"1\" class=\"dataframe\">\n",
       "  <thead>\n",
       "    <tr style=\"text-align: right;\">\n",
       "      <th></th>\n",
       "      <th>0</th>\n",
       "      <th>1</th>\n",
       "      <th>2</th>\n",
       "      <th>3</th>\n",
       "      <th>4</th>\n",
       "      <th>5</th>\n",
       "      <th>6</th>\n",
       "      <th>7</th>\n",
       "      <th>8</th>\n",
       "      <th>9</th>\n",
       "      <th>...</th>\n",
       "      <th>162</th>\n",
       "      <th>163</th>\n",
       "      <th>164</th>\n",
       "      <th>165</th>\n",
       "      <th>166</th>\n",
       "      <th>167</th>\n",
       "      <th>168</th>\n",
       "      <th>169</th>\n",
       "      <th>170</th>\n",
       "      <th>171</th>\n",
       "    </tr>\n",
       "  </thead>\n",
       "  <tbody>\n",
       "    <tr>\n",
       "      <th>0</th>\n",
       "      <td>blue</td>\n",
       "      <td>2984814498</td>\n",
       "      <td>0.650000</td>\n",
       "      <td>423.95993</td>\n",
       "      <td>1.917431</td>\n",
       "      <td>0.917431</td>\n",
       "      <td>2.900000</td>\n",
       "      <td>133402.100</td>\n",
       "      <td>17926.000</td>\n",
       "      <td>16480.800</td>\n",
       "      <td>...</td>\n",
       "      <td>13711.350</td>\n",
       "      <td>114.10000</td>\n",
       "      <td>1.190000</td>\n",
       "      <td>1.685000</td>\n",
       "      <td>-0.402500</td>\n",
       "      <td>-0.352500</td>\n",
       "      <td>193.48500</td>\n",
       "      <td>332.70502</td>\n",
       "      <td>-10.030000</td>\n",
       "      <td>-7.407500</td>\n",
       "    </tr>\n",
       "    <tr>\n",
       "      <th>1</th>\n",
       "      <td>purple</td>\n",
       "      <td>3034035764</td>\n",
       "      <td>0.526316</td>\n",
       "      <td>402.25280</td>\n",
       "      <td>2.000000</td>\n",
       "      <td>1.000000</td>\n",
       "      <td>2.157895</td>\n",
       "      <td>137797.310</td>\n",
       "      <td>17697.053</td>\n",
       "      <td>17959.790</td>\n",
       "      <td>...</td>\n",
       "      <td>17441.264</td>\n",
       "      <td>302.21054</td>\n",
       "      <td>1.189474</td>\n",
       "      <td>1.642105</td>\n",
       "      <td>0.100000</td>\n",
       "      <td>-0.081579</td>\n",
       "      <td>200.77895</td>\n",
       "      <td>350.03687</td>\n",
       "      <td>4.418421</td>\n",
       "      <td>30.384210</td>\n",
       "    </tr>\n",
       "    <tr>\n",
       "      <th>2</th>\n",
       "      <td>purple</td>\n",
       "      <td>3036731710</td>\n",
       "      <td>0.409091</td>\n",
       "      <td>421.79210</td>\n",
       "      <td>2.215569</td>\n",
       "      <td>1.215569</td>\n",
       "      <td>3.636364</td>\n",
       "      <td>154794.270</td>\n",
       "      <td>23505.592</td>\n",
       "      <td>24949.682</td>\n",
       "      <td>...</td>\n",
       "      <td>29733.684</td>\n",
       "      <td>782.63160</td>\n",
       "      <td>0.326316</td>\n",
       "      <td>0.773684</td>\n",
       "      <td>-0.036842</td>\n",
       "      <td>-0.413158</td>\n",
       "      <td>223.42105</td>\n",
       "      <td>339.43683</td>\n",
       "      <td>-9.331579</td>\n",
       "      <td>-31.594736</td>\n",
       "    </tr>\n",
       "    <tr>\n",
       "      <th>3</th>\n",
       "      <td>purple</td>\n",
       "      <td>3018436026</td>\n",
       "      <td>0.473684</td>\n",
       "      <td>384.25073</td>\n",
       "      <td>1.917526</td>\n",
       "      <td>0.917526</td>\n",
       "      <td>2.368421</td>\n",
       "      <td>136257.270</td>\n",
       "      <td>17298.736</td>\n",
       "      <td>18882.053</td>\n",
       "      <td>...</td>\n",
       "      <td>14255.750</td>\n",
       "      <td>136.25000</td>\n",
       "      <td>0.235000</td>\n",
       "      <td>0.405000</td>\n",
       "      <td>-0.330000</td>\n",
       "      <td>-0.022500</td>\n",
       "      <td>165.56500</td>\n",
       "      <td>310.27000</td>\n",
       "      <td>0.042500</td>\n",
       "      <td>65.232500</td>\n",
       "    </tr>\n",
       "    <tr>\n",
       "      <th>4</th>\n",
       "      <td>blue</td>\n",
       "      <td>3026930091</td>\n",
       "      <td>0.478261</td>\n",
       "      <td>398.31564</td>\n",
       "      <td>2.887755</td>\n",
       "      <td>1.887755</td>\n",
       "      <td>4.173913</td>\n",
       "      <td>125274.305</td>\n",
       "      <td>17986.130</td>\n",
       "      <td>22280.957</td>\n",
       "      <td>...</td>\n",
       "      <td>16022.895</td>\n",
       "      <td>226.68420</td>\n",
       "      <td>7.163158</td>\n",
       "      <td>6.894737</td>\n",
       "      <td>0.857895</td>\n",
       "      <td>0.323684</td>\n",
       "      <td>288.94210</td>\n",
       "      <td>461.35263</td>\n",
       "      <td>24.378946</td>\n",
       "      <td>56.265793</td>\n",
       "    </tr>\n",
       "  </tbody>\n",
       "</table>\n",
       "<p>5 rows × 172 columns</p>\n",
       "</div>"
      ],
      "text/plain": [
       "      0           1         2          3         4         5         6    \\\n",
       "0    blue  2984814498  0.650000  423.95993  1.917431  0.917431  2.900000   \n",
       "1  purple  3034035764  0.526316  402.25280  2.000000  1.000000  2.157895   \n",
       "2  purple  3036731710  0.409091  421.79210  2.215569  1.215569  3.636364   \n",
       "3  purple  3018436026  0.473684  384.25073  1.917526  0.917526  2.368421   \n",
       "4    blue  3026930091  0.478261  398.31564  2.887755  1.887755  4.173913   \n",
       "\n",
       "          7          8          9      ...            162        163  \\\n",
       "0  133402.100  17926.000  16480.800    ...      13711.350  114.10000   \n",
       "1  137797.310  17697.053  17959.790    ...      17441.264  302.21054   \n",
       "2  154794.270  23505.592  24949.682    ...      29733.684  782.63160   \n",
       "3  136257.270  17298.736  18882.053    ...      14255.750  136.25000   \n",
       "4  125274.305  17986.130  22280.957    ...      16022.895  226.68420   \n",
       "\n",
       "        164       165       166       167        168        169        170  \\\n",
       "0  1.190000  1.685000 -0.402500 -0.352500  193.48500  332.70502 -10.030000   \n",
       "1  1.189474  1.642105  0.100000 -0.081579  200.77895  350.03687   4.418421   \n",
       "2  0.326316  0.773684 -0.036842 -0.413158  223.42105  339.43683  -9.331579   \n",
       "3  0.235000  0.405000 -0.330000 -0.022500  165.56500  310.27000   0.042500   \n",
       "4  7.163158  6.894737  0.857895  0.323684  288.94210  461.35263  24.378946   \n",
       "\n",
       "         171  \n",
       "0  -7.407500  \n",
       "1  30.384210  \n",
       "2 -31.594736  \n",
       "3  65.232500  \n",
       "4  56.265793  \n",
       "\n",
       "[5 rows x 172 columns]"
      ]
     },
     "execution_count": 12,
     "metadata": {},
     "output_type": "execute_result"
    }
   ],
   "source": [
    "df.head(5)"
   ]
  },
  {
   "cell_type": "code",
   "execution_count": 13,
   "metadata": {
    "collapsed": false
   },
   "outputs": [
    {
     "data": {
      "text/plain": [
       "(13660, 172)"
      ]
     },
     "execution_count": 13,
     "metadata": {},
     "output_type": "execute_result"
    }
   ],
   "source": [
    "df.shape"
   ]
  },
  {
   "cell_type": "code",
   "execution_count": 14,
   "metadata": {
    "collapsed": false
   },
   "outputs": [],
   "source": [
    "#df = df.replace(to_replace='null', value=0)\n",
    "#df = df.replace(to_replace='infinity', value=0)"
   ]
  },
  {
   "cell_type": "code",
   "execution_count": 22,
   "metadata": {
    "collapsed": false
   },
   "outputs": [],
   "source": [
    "#Global constants\n",
    "seed = 7875\n",
    "validation_size = 750\n",
    "feature_count = df.shape[1] - 2\n",
    "\n",
    "#feed forward neural net\n",
    "n_nodes_hl1 = 300\n",
    "n_nodes_hl2 = 100\n",
    "n_nodes_hl3 = 50\n",
    "\n",
    "#cycles of feed forward + backprop on all K-folded samples\n",
    "hm_epochs = 200\n",
    "\n",
    "n_classes = 2"
   ]
  },
  {
   "cell_type": "code",
   "execution_count": 16,
   "metadata": {
    "collapsed": false
   },
   "outputs": [],
   "source": [
    "import pickle\n",
    "\n",
    "X = np.asarray(df.ix[:,2:feature_count+2])\n",
    "#standardize X\n",
    "meanX = np.mean(X, axis = 0)\n",
    "stdX = np.std(X, axis = 0)\n",
    "\n",
    "f = open('mean.pckl', 'wb')\n",
    "pickle.dump(meanX, f)\n",
    "f.close()\n",
    "\n",
    "f = open('std.pckl', 'wb')\n",
    "pickle.dump(stdX, f)\n",
    "f.close()\n",
    "\n",
    "X = (X - meanX) / stdX\n",
    "\n",
    "Y_1 = np.asarray(df.ix[:,0])\n",
    "Y_1 = [int(y == \"purple\") for y in Y_1]\n",
    "#one hot Y\n",
    "Y = np.zeros(shape=(len(Y_1), n_classes))\n",
    "Y[np.arange(len(Y_1)), Y_1] = 1\n",
    "    \n",
    "validation_features = X[:validation_size]\n",
    "validation_labels = Y[:validation_size]\n",
    "\n",
    "train_features = X[validation_size:]\n",
    "train_labels = Y[validation_size:]\n",
    "\n",
    "num_examples = train_features.shape[0]"
   ]
  },
  {
   "cell_type": "code",
   "execution_count": 17,
   "metadata": {
    "collapsed": false
   },
   "outputs": [],
   "source": [
    "def neural_network_model(data):\n",
    "    \n",
    "    dropout_prob = 0.5\n",
    "    \n",
    "    hidden_1_layer = {\n",
    "        'weights': tf.Variable(tf.truncated_normal([feature_count, n_nodes_hl1], stddev=0.1, seed=seed)),\n",
    "        'biases': tf.Variable(tf.constant(1.0, shape=[n_nodes_hl1]))\n",
    "    }\n",
    "    \n",
    "    hidden_2_layer = {\n",
    "        'weights': tf.Variable(tf.truncated_normal([n_nodes_hl1, n_nodes_hl2], stddev=0.1, seed=seed)),\n",
    "        'biases': tf.Variable(tf.constant(1.0, shape=[n_nodes_hl2]))\n",
    "    }\n",
    "    \n",
    "    hidden_3_layer = {\n",
    "        'weights': tf.Variable(tf.truncated_normal([n_nodes_hl2, n_nodes_hl3], stddev=0.1, seed=seed)),\n",
    "        'biases': tf.Variable(tf.constant(1.0, shape=[n_nodes_hl3]))\n",
    "    }\n",
    "    \n",
    "    output_layer = {\n",
    "        'weights': tf.Variable(tf.truncated_normal([n_nodes_hl1, n_classes], stddev=0.1, seed=seed)),\n",
    "        'biases': tf.Variable(tf.constant(1.0, shape=[n_classes]))\n",
    "    }\n",
    "    \n",
    "    l1 = tf.add(tf.matmul(data, hidden_1_layer['weights']), hidden_1_layer['biases'])\n",
    "    l1 = tf.nn.relu6(l1)\n",
    "    \n",
    "    l1_drop = tf.nn.dropout(l1, dropout_prob, seed=seed)\n",
    "    \n",
    "    l2 = tf.add(tf.matmul(l1_drop, hidden_2_layer['weights']), hidden_2_layer['biases'])\n",
    "    l2 = tf.nn.relu6(l2)\n",
    "    \n",
    "    l2_drop = tf.nn.dropout(l2, dropout_prob, seed=seed)\n",
    "    \n",
    "    l3 = tf.add(tf.matmul(l2, hidden_3_layer['weights']), hidden_3_layer['biases'])\n",
    "    l3 = tf.nn.sigmoid(l3)\n",
    "    \n",
    "    l3_drop = tf.nn.dropout(l3, dropout_prob, seed=seed)\n",
    "    \n",
    "    output = tf.matmul(l1_drop, output_layer['weights']) +  output_layer['biases']\n",
    "    \n",
    "    regularizers = (tf.nn.l2_loss(hidden_1_layer['weights']) + tf.nn.l2_loss(hidden_1_layer['biases']) +\n",
    "                                tf.nn.l2_loss(output_layer['weights']) + tf.nn.l2_loss(output_layer['biases']))\n",
    "    \n",
    "    return output, regularizers"
   ]
  },
  {
   "cell_type": "code",
   "execution_count": 18,
   "metadata": {
    "collapsed": true
   },
   "outputs": [],
   "source": [
    "def display_stat(x_range, trains, tests, vals, acc_0s, acc_1s):\n",
    "    \n",
    "    #plt.plot(x_range, trains,'-b', label='Training acc')\n",
    "    #plt.plot(x_range, vals,'-g', label='Validation acc')\n",
    "    #plt.plot(x_range, tests,'-y', label='Test acc')\n",
    "    plt.plot(x_range, acc_0s,'-r', label='Acc Class 0')\n",
    "    plt.plot(x_range, acc_1s,'-k', label='Acc Class 1')\n",
    "\n",
    "    plt.legend(loc='lower right', frameon=False)\n",
    "    plt.ylim(ymax = 1.1, ymin = 0.0)\n",
    "\n",
    "    plt.ylabel('accuracy')\n",
    "    plt.xlabel('epoch')\n",
    "    plt.show()"
   ]
  },
  {
   "cell_type": "code",
   "execution_count": 19,
   "metadata": {
    "collapsed": false
   },
   "outputs": [],
   "source": [
    "def train_neural_network_CV(x, lambda_):\n",
    "    \n",
    "    vals = []\n",
    "    trains = []\n",
    "    tests = []\n",
    "    x_range = []\n",
    "    \n",
    "    f1_vals = []\n",
    "    \n",
    "    acc_1s = []\n",
    "    acc_0s = []\n",
    "    \n",
    "    prediction, regularizers = neural_network_model(x)\n",
    "    \n",
    "    cost = tf.reduce_mean(tf.nn.softmax_cross_entropy_with_logits(prediction, y))\n",
    "    #log_loss = tf.contrib.losses.log_loss(predictions=prediction, labels=y)\n",
    "\n",
    "    #Eval this to get probability of [winning,losing]\n",
    "    prob = tf.nn.softmax(prediction)\n",
    "    \n",
    "    #learning rate can be passed\n",
    "    optimizer = tf.train.AdamOptimizer(1e-4).minimize(cost + lambda_ * regularizers)\n",
    "    \n",
    "    #metrics\n",
    "    correct_prediction = tf.equal(tf.argmax(prediction,1), tf.argmax(y,1))\n",
    "    false_prediction = tf.logical_not(correct_prediction)\n",
    "    accuracy = tf.reduce_mean(tf.cast(correct_prediction, 'float'))\n",
    "\n",
    "    #use for f1 score if needed\n",
    "    true_positives = tf.reduce_sum(tf.to_int32(tf.logical_and(correct_prediction, tf.equal(tf.argmax(tf.nn.softmax(y),1), True) )))\n",
    "    false_positives = tf.reduce_sum(tf.to_int32(tf.logical_and(false_prediction, tf.equal(tf.argmax(tf.nn.softmax(y),1), True) )))\n",
    "    true_negatives = tf.reduce_sum(tf.to_int32(tf.logical_and(correct_prediction, tf.equal(tf.argmax(tf.nn.softmax(y),1), False) )))\n",
    "    false_negatives = tf.reduce_sum(tf.to_int32(tf.logical_and(false_prediction, tf.equal(tf.argmax(tf.nn.softmax(y),1), False) )))\n",
    "\n",
    "    #acc for each class\n",
    "    class_0 = tf.where(tf.equal(tf.argmax(y, 1), 0))\n",
    "    class_0 = tf.reshape(class_0, [tf.shape(class_0)[0]])\n",
    "    pred_0 = tf.gather(prediction, class_0)\n",
    "    y_0 = tf.gather(y, class_0)\n",
    "    class_0_correct = tf.equal(tf.argmax(pred_0,1), tf.argmax(y_0,1))\n",
    "    acc_0 = tf.reduce_mean(tf.cast(class_0_correct, 'float'))\n",
    "    \n",
    "    class_1 = tf.where(tf.equal(tf.argmax(y, 1), 1))\n",
    "    class_1 = tf.reshape(class_1, [tf.shape(class_1)[0]])\n",
    "    pred_1 = tf.gather(prediction, class_1)\n",
    "    y_1 = tf.gather(y, class_1)\n",
    "    class_1_correct = tf.equal(tf.argmax(pred_1,1), tf.argmax(y_1,1))\n",
    "    acc_1 = tf.reduce_mean(tf.cast(class_1_correct, 'float'))\n",
    "    \n",
    "    display_step = 1\n",
    "    \n",
    "    with tf.Session() as sess:\n",
    "        sess.run(tf.global_variables_initializer())\n",
    "        \n",
    "        for epoch in range(hm_epochs):\n",
    "            #epoch_loss = 0\n",
    "            fold_index = 0\n",
    "            \n",
    "            kf = KFold(n_splits=5, random_state=seed, shuffle=True)\n",
    "            for train_index, test_index in kf.split(train_features, train_labels):\n",
    "                fold_index += 1\n",
    "                X_train, X_test = train_features[train_index], train_features[test_index]\n",
    "                y_train, y_test = train_labels[train_index], train_labels[test_index]\n",
    "                \n",
    "                _, c = sess.run([optimizer, cost], feed_dict = {x: X_train, y: y_train})\n",
    "                #epoch_loss += c\n",
    "                \n",
    "                train_accuracy = accuracy.eval(feed_dict={ x: X_train, y: y_train})  \n",
    "                test_accuracy = accuracy.eval(feed_dict={ x: X_test, y: y_test})  \n",
    "                \n",
    "                # increase display_step after 10 iteration of same decimal\n",
    "                if epoch%(display_step*10) == 0 and epoch:\n",
    "                       display_step *= 10\n",
    "    \n",
    "                if (epoch%display_step == 0 or (epoch+1) == hm_epochs) and fold_index == 5:\n",
    "                    print('train:%.4f, test:%.4f,  epoch %d, fold %d' % (train_accuracy, test_accuracy, epoch, fold_index))\n",
    "\n",
    "                    #if (fold_index == kf.n_splits):\n",
    "                    validation_accuracy = accuracy.eval(feed_dict={ x: validation_features, y: validation_labels})\n",
    "                    print ('val:%.2f' % (validation_accuracy))\n",
    "                    \n",
    "                    tp = true_positives.eval(feed_dict={ x: validation_features, y: validation_labels})   \n",
    "                    fp = false_positives.eval(feed_dict={ x: validation_features, y: validation_labels})  \n",
    "                    fn = false_negatives.eval(feed_dict={ x: validation_features, y: validation_labels})\n",
    "\n",
    "                    precision = float(tp) / float(tp+fn + 0.0000000000001)\n",
    "                    recall = float(tp) / float(tp + fn + 0.0000000000001)\n",
    "                    F1_val = 2 * ( precision * recall ) / ( precision + recall + 0.0000000000001 )\n",
    "\n",
    "                    x_range.append(epoch)\n",
    "                    vals.append(validation_accuracy)\n",
    "                    trains.append(train_accuracy)\n",
    "                    tests.append(test_accuracy)\n",
    "                    f1_vals.append(F1_val)\n",
    "                    \n",
    "                    #print(validation_labels)\n",
    "                    #print(class_1.eval(feed_dict={ x: validation_features, y: validation_labels})  )\n",
    "\n",
    "                    acc_1s.append(acc_1.eval(feed_dict={ x: validation_features, y: validation_labels}))\n",
    "                    acc_0s.append(acc_0.eval(feed_dict={ x: validation_features, y: validation_labels}))\n",
    "                    \n",
    "        saver = tf.train.Saver()\n",
    "        save_path = saver.save(sess, model_path)        \n",
    "        \n",
    "        display_stat(x_range, trains, tests, vals, acc_0s, acc_1s)\n"
   ]
  },
  {
   "cell_type": "code",
   "execution_count": 23,
   "metadata": {
    "collapsed": false
   },
   "outputs": [
    {
     "name": "stdout",
     "output_type": "stream",
     "text": [
      "train:0.4860, test:0.4969,  epoch 0, fold 5\n",
      "val:0.47\n",
      "train:0.4863, test:0.4988,  epoch 1, fold 5\n",
      "val:0.46\n",
      "train:0.4854, test:0.4965,  epoch 2, fold 5\n",
      "val:0.47\n",
      "train:0.4887, test:0.5035,  epoch 3, fold 5\n",
      "val:0.48\n",
      "train:0.4894, test:0.5012,  epoch 4, fold 5\n",
      "val:0.47\n",
      "train:0.4956, test:0.4942,  epoch 5, fold 5\n",
      "val:0.48\n",
      "train:0.4969, test:0.4985,  epoch 6, fold 5\n",
      "val:0.48\n",
      "train:0.4987, test:0.5074,  epoch 7, fold 5\n",
      "val:0.50\n",
      "train:0.4997, test:0.5151,  epoch 8, fold 5\n",
      "val:0.50\n",
      "train:0.4992, test:0.4950,  epoch 9, fold 5\n",
      "val:0.51\n",
      "train:0.5041, test:0.5000,  epoch 10, fold 5\n",
      "val:0.52\n",
      "train:0.5138, test:0.5236,  epoch 20, fold 5\n",
      "val:0.50\n",
      "train:0.5301, test:0.5159,  epoch 30, fold 5\n",
      "val:0.52\n",
      "train:0.5378, test:0.5399,  epoch 40, fold 5\n",
      "val:0.55\n",
      "train:0.5404, test:0.5411,  epoch 50, fold 5\n",
      "val:0.56\n",
      "train:0.5500, test:0.5589,  epoch 60, fold 5\n",
      "val:0.52\n",
      "train:0.5472, test:0.5658,  epoch 70, fold 5\n",
      "val:0.53\n",
      "train:0.5627, test:0.5515,  epoch 80, fold 5\n",
      "val:0.55\n",
      "train:0.5621, test:0.5662,  epoch 90, fold 5\n",
      "val:0.57\n",
      "train:0.5654, test:0.5778,  epoch 100, fold 5\n",
      "val:0.54\n",
      "train:0.5834, test:0.6050,  epoch 200, fold 5\n",
      "val:0.60\n",
      "train:0.5891, test:0.6053,  epoch 300, fold 5\n",
      "val:0.58\n",
      "train:0.5895, test:0.6007,  epoch 400, fold 5\n",
      "val:0.59\n",
      "train:0.5917, test:0.6154,  epoch 500, fold 5\n",
      "val:0.59\n",
      "train:0.5882, test:0.5949,  epoch 600, fold 5\n",
      "val:0.61\n",
      "train:0.5903, test:0.6030,  epoch 700, fold 5\n",
      "val:0.60\n",
      "train:0.5931, test:0.6038,  epoch 800, fold 5\n",
      "val:0.59\n",
      "train:0.5951, test:0.6061,  epoch 900, fold 5\n",
      "val:0.60\n",
      "train:0.5953, test:0.6046,  epoch 1000, fold 5\n",
      "val:0.59\n",
      "train:0.6469, test:0.6503,  epoch 1999, fold 5\n",
      "val:0.59\n"
     ]
    },
    {
     "data": {
      "image/png": "[encoded data removed]",
      "text/plain": [
       "<matplotlib.figure.Figure at 0x25dde5cd128>"
      ]
     },
     "metadata": {},
     "output_type": "display_data"
    }
   ],
   "source": [
    "x = tf.placeholder('float', [None, feature_count])\n",
    "y = tf.placeholder('float', [None, n_classes])\n",
    "\n",
    "model_path = \"./tmp2/model.ckpt\"\n",
    "save_dir = './tmp2/'\n",
    "if not os.path.isdir(save_dir):\n",
    "    os.mkdir(save_dir)\n",
    "    \n",
    "    \n",
    "L2_lambda_ = 1.5e-3\n",
    "train_neural_network_CV(x, L2_lambda_)"
   ]
  },
  {
   "cell_type": "code",
   "execution_count": 28,
   "metadata": {
    "collapsed": false
   },
   "outputs": [
    {
     "name": "stdout",
     "output_type": "stream",
     "text": [
      "probability test [[ 0.38545015  0.61454988]]\n"
     ]
    }
   ],
   "source": [
    "# Running a new session to predict based on model\n",
    "#TODO make sure it works and test\n",
    "prediction, regularizers = neural_network_model(x)\n",
    "#Eval this to get probability of [winning,losing]\n",
    "prob = tf.nn.softmax(prediction)\n",
    "\n",
    "with tf.Session() as sess:\n",
    "    # Initialize variables\n",
    "    sess.run(tf.global_variables_initializer())\n",
    "    \n",
    "#     saver.restore(sess, model_path)\n",
    "    new_saver = tf.train.import_meta_graph(model_path + \".meta\")\n",
    "    new_saver.restore(sess, tf.train.latest_checkpoint('./tmp2'))\n",
    "    \n",
    "    #test random sample from validation test\n",
    "    prob_test = validation_features[40].reshape((1,validation_features[0].shape[0]))\n",
    "    prob_value = prob.eval(feed_dict={ x:prob_test})  \n",
    "    print('probability test', prob_value)\n",
    "    \n",
    "    "
   ]
  },
  {
   "cell_type": "code",
   "execution_count": 29,
   "metadata": {
    "collapsed": false
   },
   "outputs": [
    {
     "data": {
      "text/plain": [
       "array([-0.32692872, -0.31204851, -0.32684987, -0.32688453, -0.32676454,\n",
       "        5.21943154,  0.50826235,  0.38402118, -0.31375633, -0.32673353,\n",
       "       -0.32671255, -0.32694888, -0.32693146, -0.31751632, -0.31180154,\n",
       "       -0.32656407, -0.32534424, -0.32692872, -0.31120542, -0.32684049,\n",
       "       -0.32687515, -0.32676819,  8.44878065,  0.94904214,  0.38893186,\n",
       "       -0.30494007, -0.32671912, -0.32670471, -0.32695061, -0.3269403 ,\n",
       "       -0.3168691 , -0.31103848, -0.32660903, -0.32516702, -0.32693602,\n",
       "       -0.31333459, -0.32688257, -0.32691723, -0.32682657,  3.58025366,\n",
       "        0.43102299,  0.67482447, -0.31463558, -0.32677403, -0.32673244,\n",
       "       -0.32695061, -0.32691869, -0.31811666, -0.31209724, -0.32695061,\n",
       "       -0.32602666, -0.32692689, -0.31192594, -0.32686835, -0.32690301,\n",
       "       -0.32682292,  5.78753747,  0.55221774,  0.5592773 , -0.30653076,\n",
       "       -0.3267972 , -0.32680522, -0.32692735, -0.32695061, -0.3169428 ,\n",
       "       -0.31257845, -0.32593181, -0.32630248, -0.3269351 , -0.31459225,\n",
       "       -0.32687734, -0.326912  , -0.32685019,  2.27890019,  0.26609751,\n",
       "        0.26042377, -0.31155673, -0.32688207, -0.32685833, -0.3269507 ,\n",
       "       -0.3269507 , -0.31912946, -0.31369608, -0.3269507 , -0.32537006,\n",
       "       -0.32693602, -0.31349467, -0.32688095, -0.32691561, -0.3268521 ,\n",
       "        4.10778626,  0.24002783,  0.40965818, -0.31650171, -0.32682474,\n",
       "       -0.32680249, -0.32695061, -0.32695061, -0.31767193, -0.31278076,\n",
       "       -0.32695061, -0.32695061, -0.3269351 , -0.31323972, -0.32687816,\n",
       "       -0.32691282, -0.32685539,  6.15701943,  0.5269805 ,  0.45189612,\n",
       "       -0.3139049 , -0.32673044, -0.32672022, -0.3269507 , -0.32694637,\n",
       "       -0.31819175, -0.31235719, -0.3269507 , -0.3269507 , -0.32693054,\n",
       "       -0.31278984, -0.32684381, -0.32687847, -0.32673718,  3.35458288,\n",
       "        0.55595   ,  0.40239613, -0.32191405, -0.32681197, -0.32680851,\n",
       "       -0.32694204, -0.32695061, -0.31696724, -0.31184769, -0.32506149,\n",
       "       -0.32470386, -0.32693164, -0.31240127, -0.32685428, -0.32688894,\n",
       "       -0.3267826 ,  4.66697398,  0.61270878,  0.39842881, -0.31358084,\n",
       "       -0.32678728, -0.32677411, -0.32692809, -0.32693484, -0.3163633 ,\n",
       "       -0.31168965, -0.32581041, -0.32581569, -0.32692325, -0.31527433,\n",
       "       -0.3268936 , -0.32692826, -0.32691048,  0.89425119, -0.05108737,\n",
       "        0.30523306, -0.31179533, -0.32690373, -0.32688603, -0.32694231,\n",
       "       -0.32692662, -0.32028214, -0.31461351, -0.32695061, -0.32489239])"
      ]
     },
     "execution_count": 29,
     "metadata": {},
     "output_type": "execute_result"
    }
   ],
   "source": [
    "prob_test[0]"
   ]
  },
  {
   "cell_type": "code",
   "execution_count": null,
   "metadata": {
    "collapsed": true
   },
   "outputs": [],
   "source": []
  }
 ],
 "metadata": {
  "anaconda-cloud": {},
  "kernelspec": {
   "display_name": "Python [conda root]",
   "language": "python",
   "name": "conda-root-py"
  },
  "language_info": {
   "codemirror_mode": {
    "name": "ipython",
    "version": 3
   },
   "file_extension": ".py",
   "mimetype": "text/x-python",
   "name": "python",
   "nbconvert_exporter": "python",
   "pygments_lexer": "ipython3",
   "version": "3.5.2"
  }
 },
 "nbformat": 4,
 "nbformat_minor": 1
}
