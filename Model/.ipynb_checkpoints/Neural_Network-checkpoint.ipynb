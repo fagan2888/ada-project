{
 "cells": [
  {
   "cell_type": "code",
   "execution_count": 188,
   "metadata": {
    "collapsed": false
   },
   "outputs": [],
   "source": [
    "import tensorflow as tf\n",
    "import numpy as np\n",
    "import pandas as pd\n",
    "from sklearn.model_selection import KFold\n",
    "import os"
   ]
  },
  {
   "cell_type": "code",
   "execution_count": 172,
   "metadata": {
    "collapsed": true
   },
   "outputs": [],
   "source": [
    "df = pd.read_csv(\"../features/features.csv\", sep=',', header=None)"
   ]
  },
  {
   "cell_type": "code",
   "execution_count": 173,
   "metadata": {
    "collapsed": false
   },
   "outputs": [
    {
     "data": {
      "text/plain": [
       "0"
      ]
     },
     "execution_count": 173,
     "metadata": {},
     "output_type": "execute_result"
    }
   ],
   "source": [
    "df.isnull().sum().sum()"
   ]
  },
  {
   "cell_type": "code",
   "execution_count": 174,
   "metadata": {
    "collapsed": false
   },
   "outputs": [],
   "source": [
    "df = df.fillna(0)"
   ]
  },
  {
   "cell_type": "code",
   "execution_count": 175,
   "metadata": {
    "collapsed": false
   },
   "outputs": [],
   "source": [
    "no_nulls = df.apply(lambda row : \n",
    "          any([ e == (\"null\") for e in row ])\n",
    "       , axis=1) "
   ]
  },
  {
   "cell_type": "code",
   "execution_count": 176,
   "metadata": {
    "collapsed": false
   },
   "outputs": [
    {
     "data": {
      "text/plain": [
       "True"
      ]
     },
     "execution_count": 176,
     "metadata": {},
     "output_type": "execute_result"
    }
   ],
   "source": [
    "no_nulls[597]"
   ]
  },
  {
   "cell_type": "code",
   "execution_count": 177,
   "metadata": {
    "collapsed": false
   },
   "outputs": [
    {
     "data": {
      "text/html": [
       "<div>\n",
       "<table border=\"1\" class=\"dataframe\">\n",
       "  <thead>\n",
       "    <tr style=\"text-align: right;\">\n",
       "      <th></th>\n",
       "      <th>0</th>\n",
       "      <th>1</th>\n",
       "      <th>2</th>\n",
       "      <th>3</th>\n",
       "      <th>4</th>\n",
       "      <th>5</th>\n",
       "      <th>6</th>\n",
       "      <th>7</th>\n",
       "      <th>8</th>\n",
       "      <th>9</th>\n",
       "      <th>...</th>\n",
       "      <th>162</th>\n",
       "      <th>163</th>\n",
       "      <th>164</th>\n",
       "      <th>165</th>\n",
       "      <th>166</th>\n",
       "      <th>167</th>\n",
       "      <th>168</th>\n",
       "      <th>169</th>\n",
       "      <th>170</th>\n",
       "      <th>171</th>\n",
       "    </tr>\n",
       "  </thead>\n",
       "  <tbody>\n",
       "    <tr>\n",
       "      <th>597</th>\n",
       "      <td>purple</td>\n",
       "      <td>1599765459</td>\n",
       "      <td>null</td>\n",
       "      <td>null</td>\n",
       "      <td>null</td>\n",
       "      <td>null</td>\n",
       "      <td>null</td>\n",
       "      <td>null</td>\n",
       "      <td>null</td>\n",
       "      <td>null</td>\n",
       "      <td>...</td>\n",
       "      <td>25669.053</td>\n",
       "      <td>441.94736</td>\n",
       "      <td>4.5789475</td>\n",
       "      <td>5.868421</td>\n",
       "      <td>0.05263158</td>\n",
       "      <td>0.05526315</td>\n",
       "      <td>236.07895</td>\n",
       "      <td>369.8</td>\n",
       "      <td>0.05263158</td>\n",
       "      <td>0.05263158</td>\n",
       "    </tr>\n",
       "  </tbody>\n",
       "</table>\n",
       "<p>1 rows × 172 columns</p>\n",
       "</div>"
      ],
      "text/plain": [
       "        0           1     2     3     4     5     6     7     8     9    \\\n",
       "597  purple  1599765459  null  null  null  null  null  null  null  null   \n",
       "\n",
       "        ...            162        163        164       165         166  \\\n",
       "597     ...      25669.053  441.94736  4.5789475  5.868421  0.05263158   \n",
       "\n",
       "            167        168    169         170         171  \n",
       "597  0.05526315  236.07895  369.8  0.05263158  0.05263158  \n",
       "\n",
       "[1 rows x 172 columns]"
      ]
     },
     "execution_count": 177,
     "metadata": {},
     "output_type": "execute_result"
    }
   ],
   "source": [
    "df.loc[[597]]"
   ]
  },
  {
   "cell_type": "code",
   "execution_count": 178,
   "metadata": {
    "collapsed": false
   },
   "outputs": [],
   "source": [
    "df = df[~no_nulls]\n",
    "df = df.apply(pd.to_numeric, errors='ignore')\n"
   ]
  },
  {
   "cell_type": "code",
   "execution_count": 179,
   "metadata": {
    "collapsed": false
   },
   "outputs": [
    {
     "data": {
      "text/html": [
       "<div>\n",
       "<table border=\"1\" class=\"dataframe\">\n",
       "  <thead>\n",
       "    <tr style=\"text-align: right;\">\n",
       "      <th></th>\n",
       "      <th>0</th>\n",
       "      <th>1</th>\n",
       "      <th>2</th>\n",
       "      <th>3</th>\n",
       "      <th>4</th>\n",
       "      <th>5</th>\n",
       "      <th>6</th>\n",
       "      <th>7</th>\n",
       "      <th>8</th>\n",
       "      <th>9</th>\n",
       "      <th>...</th>\n",
       "      <th>162</th>\n",
       "      <th>163</th>\n",
       "      <th>164</th>\n",
       "      <th>165</th>\n",
       "      <th>166</th>\n",
       "      <th>167</th>\n",
       "      <th>168</th>\n",
       "      <th>169</th>\n",
       "      <th>170</th>\n",
       "      <th>171</th>\n",
       "    </tr>\n",
       "  </thead>\n",
       "  <tbody>\n",
       "    <tr>\n",
       "      <th>0</th>\n",
       "      <td>blue</td>\n",
       "      <td>1590361949</td>\n",
       "      <td>0.500000</td>\n",
       "      <td>394.38733</td>\n",
       "      <td>1.884146</td>\n",
       "      <td>0.884146</td>\n",
       "      <td>2.550000</td>\n",
       "      <td>148904.95</td>\n",
       "      <td>21593.250</td>\n",
       "      <td>26485.550</td>\n",
       "      <td>...</td>\n",
       "      <td>30334.200</td>\n",
       "      <td>1902.20000</td>\n",
       "      <td>3.960000</td>\n",
       "      <td>5.550000</td>\n",
       "      <td>0.050000</td>\n",
       "      <td>0.662500</td>\n",
       "      <td>238.48001</td>\n",
       "      <td>407.56000</td>\n",
       "      <td>0.050000</td>\n",
       "      <td>38.792503</td>\n",
       "    </tr>\n",
       "    <tr>\n",
       "      <th>1</th>\n",
       "      <td>blue</td>\n",
       "      <td>1604941176</td>\n",
       "      <td>0.421053</td>\n",
       "      <td>358.31810</td>\n",
       "      <td>1.705357</td>\n",
       "      <td>0.705357</td>\n",
       "      <td>1.947368</td>\n",
       "      <td>90007.52</td>\n",
       "      <td>13427.842</td>\n",
       "      <td>17912.000</td>\n",
       "      <td>...</td>\n",
       "      <td>22437.300</td>\n",
       "      <td>298.20000</td>\n",
       "      <td>1.080000</td>\n",
       "      <td>1.530000</td>\n",
       "      <td>0.055000</td>\n",
       "      <td>0.177500</td>\n",
       "      <td>167.64499</td>\n",
       "      <td>298.63500</td>\n",
       "      <td>9.492499</td>\n",
       "      <td>0.050000</td>\n",
       "    </tr>\n",
       "    <tr>\n",
       "      <th>2</th>\n",
       "      <td>blue</td>\n",
       "      <td>1604313975</td>\n",
       "      <td>0.526316</td>\n",
       "      <td>353.67276</td>\n",
       "      <td>1.945946</td>\n",
       "      <td>0.945946</td>\n",
       "      <td>2.368421</td>\n",
       "      <td>74615.42</td>\n",
       "      <td>12151.263</td>\n",
       "      <td>20228.000</td>\n",
       "      <td>...</td>\n",
       "      <td>28976.790</td>\n",
       "      <td>415.05264</td>\n",
       "      <td>0.952632</td>\n",
       "      <td>1.363158</td>\n",
       "      <td>0.057895</td>\n",
       "      <td>0.052632</td>\n",
       "      <td>211.42632</td>\n",
       "      <td>326.96313</td>\n",
       "      <td>11.452632</td>\n",
       "      <td>0.052632</td>\n",
       "    </tr>\n",
       "    <tr>\n",
       "      <th>3</th>\n",
       "      <td>purple</td>\n",
       "      <td>1595899540</td>\n",
       "      <td>0.736842</td>\n",
       "      <td>413.60680</td>\n",
       "      <td>2.380000</td>\n",
       "      <td>1.380000</td>\n",
       "      <td>3.631579</td>\n",
       "      <td>144662.05</td>\n",
       "      <td>18813.578</td>\n",
       "      <td>19041.158</td>\n",
       "      <td>...</td>\n",
       "      <td>25255.790</td>\n",
       "      <td>358.36840</td>\n",
       "      <td>1.136842</td>\n",
       "      <td>1.357895</td>\n",
       "      <td>0.052632</td>\n",
       "      <td>0.052632</td>\n",
       "      <td>201.98947</td>\n",
       "      <td>343.47370</td>\n",
       "      <td>0.052632</td>\n",
       "      <td>0.052632</td>\n",
       "    </tr>\n",
       "    <tr>\n",
       "      <th>4</th>\n",
       "      <td>blue</td>\n",
       "      <td>1604303561</td>\n",
       "      <td>0.526316</td>\n",
       "      <td>373.19904</td>\n",
       "      <td>2.037037</td>\n",
       "      <td>1.037037</td>\n",
       "      <td>2.736842</td>\n",
       "      <td>142241.31</td>\n",
       "      <td>20665.000</td>\n",
       "      <td>20751.105</td>\n",
       "      <td>...</td>\n",
       "      <td>26728.578</td>\n",
       "      <td>363.21054</td>\n",
       "      <td>3.173684</td>\n",
       "      <td>3.484210</td>\n",
       "      <td>0.052632</td>\n",
       "      <td>0.052632</td>\n",
       "      <td>199.08948</td>\n",
       "      <td>316.16318</td>\n",
       "      <td>0.052632</td>\n",
       "      <td>0.052632</td>\n",
       "    </tr>\n",
       "  </tbody>\n",
       "</table>\n",
       "<p>5 rows × 172 columns</p>\n",
       "</div>"
      ],
      "text/plain": [
       "      0           1         2          3         4         5         6    \\\n",
       "0    blue  1590361949  0.500000  394.38733  1.884146  0.884146  2.550000   \n",
       "1    blue  1604941176  0.421053  358.31810  1.705357  0.705357  1.947368   \n",
       "2    blue  1604313975  0.526316  353.67276  1.945946  0.945946  2.368421   \n",
       "3  purple  1595899540  0.736842  413.60680  2.380000  1.380000  3.631579   \n",
       "4    blue  1604303561  0.526316  373.19904  2.037037  1.037037  2.736842   \n",
       "\n",
       "         7          8          9      ...            162         163  \\\n",
       "0  148904.95  21593.250  26485.550    ...      30334.200  1902.20000   \n",
       "1   90007.52  13427.842  17912.000    ...      22437.300   298.20000   \n",
       "2   74615.42  12151.263  20228.000    ...      28976.790   415.05264   \n",
       "3  144662.05  18813.578  19041.158    ...      25255.790   358.36840   \n",
       "4  142241.31  20665.000  20751.105    ...      26728.578   363.21054   \n",
       "\n",
       "        164       165       166       167        168        169        170  \\\n",
       "0  3.960000  5.550000  0.050000  0.662500  238.48001  407.56000   0.050000   \n",
       "1  1.080000  1.530000  0.055000  0.177500  167.64499  298.63500   9.492499   \n",
       "2  0.952632  1.363158  0.057895  0.052632  211.42632  326.96313  11.452632   \n",
       "3  1.136842  1.357895  0.052632  0.052632  201.98947  343.47370   0.052632   \n",
       "4  3.173684  3.484210  0.052632  0.052632  199.08948  316.16318   0.052632   \n",
       "\n",
       "         171  \n",
       "0  38.792503  \n",
       "1   0.050000  \n",
       "2   0.052632  \n",
       "3   0.052632  \n",
       "4   0.052632  \n",
       "\n",
       "[5 rows x 172 columns]"
      ]
     },
     "execution_count": 179,
     "metadata": {},
     "output_type": "execute_result"
    }
   ],
   "source": [
    "df.head(5)"
   ]
  },
  {
   "cell_type": "code",
   "execution_count": 180,
   "metadata": {
    "collapsed": false
   },
   "outputs": [],
   "source": [
    "#df = df.replace(to_replace='null', value=0)\n",
    "#df = df.replace(to_replace='infinity', value=0)"
   ]
  },
  {
   "cell_type": "code",
   "execution_count": 186,
   "metadata": {
    "collapsed": false
   },
   "outputs": [],
   "source": [
    "#Global constants\n",
    "seed = 42\n",
    "validation_size = 100\n",
    "feature_count = df.shape[1] - 2\n",
    "\n",
    "#feed forward neural net\n",
    "n_nodes_hl1 = 150\n",
    "n_nodes_hl2 = 150\n",
    "n_nodes_hl3 = 150\n",
    "\n",
    "#cycles of feed forward + backprop\n",
    "hm_epochs = 10\n",
    "\n",
    "n_classes = 2\n",
    "batch_size = 8\n",
    "\n",
    "keep_rate = 0.8\n",
    "keep_prob = tf.placeholder(tf.float32)"
   ]
  },
  {
   "cell_type": "code",
   "execution_count": 182,
   "metadata": {
    "collapsed": false
   },
   "outputs": [],
   "source": [
    "X = np.asarray(df.ix[:,2:feature_count+2])\n",
    "#standardize X\n",
    "X = (X - np.mean(X)) / np.std(X)\n",
    "\n",
    "Y_1 = np.asarray(df.ix[:,0])\n",
    "Y_1 = [int(y == \"purple\") for y in Y_1]\n",
    "#one hot Y\n",
    "Y = np.zeros(shape=(len(Y_1), n_classes))\n",
    "Y[np.arange(len(Y_1)), Y_1] = 1\n",
    "    \n",
    "validation_features = X[:validation_size]\n",
    "validation_labels = Y[:validation_size]\n",
    "\n",
    "train_features = X[validation_size:]\n",
    "train_labels = Y[validation_size:]\n",
    "\n",
    "num_examples = train_features.shape[0]"
   ]
  },
  {
   "cell_type": "code",
   "execution_count": 183,
   "metadata": {
    "collapsed": false
   },
   "outputs": [],
   "source": [
    "def neural_network_model(data):\n",
    "    \n",
    "    hidden_1_layer = {\n",
    "        'weights': tf.Variable(tf.truncated_normal([feature_count, n_nodes_hl1], stddev=0.1, seed=seed)),\n",
    "        'biases': tf.Variable(tf.constant(1.0, shape=[n_nodes_hl1]))\n",
    "    }\n",
    "    \n",
    "    hidden_2_layer = {\n",
    "        'weights': tf.Variable(tf.truncated_normal([n_nodes_hl1, n_nodes_hl2], stddev=0.1, seed=seed)),\n",
    "        'biases': tf.Variable(tf.constant(1.0, shape=[n_nodes_hl2]))\n",
    "    }\n",
    "    \n",
    "    hidden_3_layer = {\n",
    "        'weights': tf.Variable(tf.truncated_normal([n_nodes_hl2, n_nodes_hl3], stddev=0.1, seed=seed)),\n",
    "        'biases': tf.Variable(tf.constant(1.0, shape=[n_nodes_hl3]))\n",
    "    }\n",
    "    \n",
    "    output_layer = {\n",
    "        'weights': tf.Variable(tf.truncated_normal([n_nodes_hl3, n_classes], stddev=0.1, seed=seed)),\n",
    "        'biases': tf.Variable(tf.constant(1.0, shape=[n_classes]))\n",
    "    }\n",
    "    \n",
    "    l1 = tf.add(tf.matmul(data, hidden_1_layer['weights']), hidden_1_layer['biases'])\n",
    "    l1 = tf.nn.relu(l1)\n",
    "    \n",
    "    l2 = tf.add(tf.matmul(l1, hidden_2_layer['weights']), hidden_2_layer['biases'])\n",
    "    l2 = tf.nn.relu(l2)\n",
    "    \n",
    "    l3 = tf.add(tf.matmul(l2, hidden_3_layer['weights']), hidden_3_layer['biases'])\n",
    "    l3 = tf.nn.sigmoid(l3)\n",
    "    \n",
    "    output = tf.matmul(l3, output_layer['weights']) +  output_layer['biases']\n",
    "    \n",
    "    regularizers = (tf.nn.l2_loss(hidden_1_layer['weights']) + tf.nn.l2_loss(hidden_1_layer['biases']) +\n",
    "                        tf.nn.l2_loss(hidden_2_layer['weights']) + tf.nn.l2_loss(hidden_2_layer['biases']) +\n",
    "                            tf.nn.l2_loss(hidden_3_layer['weights']) + tf.nn.l2_loss(hidden_3_layer['biases']) +\n",
    "                                tf.nn.l2_loss(output_layer['weights']) + tf.nn.l2_loss(output_layer['biases']))\n",
    "    \n",
    "    return output, regularizers"
   ]
  },
  {
   "cell_type": "code",
   "execution_count": 211,
   "metadata": {
    "collapsed": true
   },
   "outputs": [],
   "source": [
    "def train_neural_network_CV(x, lambda_):\n",
    "    \n",
    "    prediction, regularizers = neural_network_model(x)\n",
    "    \n",
    "    cost = tf.reduce_mean(tf.nn.softmax_cross_entropy_with_logits(prediction, y))\n",
    "    #log_loss = tf.contrib.losses.log_loss(predictions=prediction, labels=y)\n",
    "\n",
    "    #Eval this to get probability of [winning,losing]\n",
    "    prob = tf.nn.softmax(prediction)\n",
    "    \n",
    "    #learning rate can be passed\n",
    "    optimizer = tf.train.AdamOptimizer().minimize(cost + lambda_ * regularizers)\n",
    "    \n",
    "    #metrics\n",
    "    correct_prediction = tf.equal(tf.argmax(prediction,1), tf.argmax(y,1))\n",
    "    false_prediction = tf.logical_not(correct_prediction)\n",
    "    accuracy = tf.reduce_mean(tf.cast(correct_prediction, 'float'))\n",
    "\n",
    "    true_positives = tf.reduce_sum(tf.to_int32(tf.logical_and(correct_prediction, tf.equal(tf.argmax(tf.nn.softmax(y),1), True) )))\n",
    "    false_positives = tf.reduce_sum(tf.to_int32(tf.logical_and(false_prediction, tf.equal(tf.argmax(tf.nn.softmax(y),1), True) )))\n",
    "    true_negatives = tf.reduce_sum(tf.to_int32(tf.logical_and(correct_prediction, tf.equal(tf.argmax(tf.nn.softmax(y),1), False) )))\n",
    "    false_negatives = tf.reduce_sum(tf.to_int32(tf.logical_and(false_prediction, tf.equal(tf.argmax(tf.nn.softmax(y),1), False) )))\n",
    "\n",
    "\n",
    "    display_step = 1\n",
    "    \n",
    "    with tf.Session() as sess:\n",
    "        sess.run(tf.global_variables_initializer())\n",
    "        \n",
    "        for epoch in range(hm_epochs):\n",
    "            #epoch_loss = 0\n",
    "            \n",
    "            #train and acc summed over all folds\n",
    "            test_accs = []\n",
    "            train_accs = []\n",
    "            \n",
    "            kf = KFold(n_splits=10, random_state=seed, shuffle=True)\n",
    "            for train_index, test_index in kf.split(train_features, train_labels):\n",
    "                X_train, X_test = train_features[train_index], train_features[test_index]\n",
    "                y_train, y_test = train_labels[train_index], train_labels[test_index]\n",
    "                \n",
    "                _, c = sess.run([optimizer, cost], feed_dict = {x: X_train, y: y_train})\n",
    "                #epoch_loss += c\n",
    "                \n",
    "                train_accuracy = accuracy.eval(feed_dict={ x: X_train, y: y_train})  \n",
    "                test_accuracy = accuracy.eval(feed_dict={ x: X_test, y: y_test})  \n",
    "                \n",
    "                \n",
    "                train_accs.append(train_accuracy)\n",
    "                test_accs.append(test_accuracy)\n",
    "                \n",
    "            train_acc = np.sum(train_accs) / len(train_accs)\n",
    "            test_acc = np.sum(test_accs) / len(test_accs)\n",
    "            \n",
    "            # increase display_step after 10 iteration of same decimal\n",
    "            if epoch%(display_step*10) == 0 and epoch:\n",
    "                display_step *= 10\n",
    "                \n",
    "            if epoch%display_step == 0 or (epoch+1) == hm_epochs:\n",
    "               \n",
    "                #prob_test = validation_features[0].reshape((1,validation_features[0].shape[0]))\n",
    "                #prob_value = prob.eval(feed_dict={ x:prob_test})  \n",
    "                #print('probability test', prob_value)\n",
    "                \n",
    "                validation_accuracy = accuracy.eval(feed_dict={ x: validation_features, y: validation_labels})     \n",
    "                print('train accuracy => %.2f, test acc =>  %.2f, validation accuracy => %.2f for epoch %d' % (train_acc, test_acc, validation_accuracy, epoch))\n",
    "\n",
    "        save_path = saver.save(sess, model_path)        "
   ]
  },
  {
   "cell_type": "code",
   "execution_count": 212,
   "metadata": {
    "collapsed": false
   },
   "outputs": [
    {
     "name": "stdout",
     "output_type": "stream",
     "text": [
      "train accuracy => 0.50, test acc =>  0.50, validation accuracy => 0.65 for epoch 0\n",
      "train accuracy => 0.51, test acc =>  0.51, validation accuracy => 0.64 for epoch 1\n",
      "train accuracy => 0.53, test acc =>  0.53, validation accuracy => 0.59 for epoch 2\n",
      "train accuracy => 0.55, test acc =>  0.55, validation accuracy => 0.59 for epoch 3\n",
      "train accuracy => 0.55, test acc =>  0.56, validation accuracy => 0.53 for epoch 4\n",
      "train accuracy => 0.56, test acc =>  0.56, validation accuracy => 0.57 for epoch 5\n",
      "train accuracy => 0.56, test acc =>  0.55, validation accuracy => 0.58 for epoch 6\n",
      "train accuracy => 0.56, test acc =>  0.56, validation accuracy => 0.58 for epoch 7\n",
      "train accuracy => 0.57, test acc =>  0.56, validation accuracy => 0.56 for epoch 8\n",
      "train accuracy => 0.57, test acc =>  0.57, validation accuracy => 0.54 for epoch 9\n"
     ]
    }
   ],
   "source": [
    "x = tf.placeholder('float', [None, feature_count])\n",
    "y = tf.placeholder('float', [None, n_classes])\n",
    "\n",
    "model_path = \"./tmp/model.ckpt\"\n",
    "save_dir = './tmp/'\n",
    "if not os.path.isdir(save_dir):\n",
    "    os.mkdir(save_dir)\n",
    "    \n",
    "saver = tf.train.Saver()\n",
    "\n",
    "L2_lambda_ = 5e-5\n",
    "train_neural_network_CV(x, L2_lambda_)"
   ]
  },
  {
   "cell_type": "code",
   "execution_count": null,
   "metadata": {
    "collapsed": false
   },
   "outputs": [],
   "source": []
  },
  {
   "cell_type": "code",
   "execution_count": 219,
   "metadata": {
    "collapsed": false
   },
   "outputs": [
    {
     "name": "stdout",
     "output_type": "stream",
     "text": [
      "probability test [[ 0.38545015  0.61454988]]\n"
     ]
    }
   ],
   "source": [
    "# Running a new session to predict based on model\n",
    "#TODO make sure it works and test\n",
    "prediction, regularizers = neural_network_model(x)\n",
    "#Eval this to get probability of [winning,losing]\n",
    "prob = tf.nn.softmax(prediction)\n",
    "\n",
    "with tf.Session() as sess:\n",
    "    # Initialize variables\n",
    "    sess.run(tf.global_variables_initializer())\n",
    "    \n",
    "    saver.restore(sess, model_path)\n",
    "    \n",
    "    #test random sample from validation test\n",
    "    prob_test = validation_features[40].reshape((1,validation_features[0].shape[0]))\n",
    "    prob_value = prob.eval(feed_dict={ x:prob_test})  \n",
    "    print('probability test', prob_value)\n",
    "    \n",
    "    "
   ]
  },
  {
   "cell_type": "code",
   "execution_count": null,
   "metadata": {
    "collapsed": true
   },
   "outputs": [],
   "source": []
  }
 ],
 "metadata": {
  "anaconda-cloud": {},
  "kernelspec": {
   "display_name": "Python [conda root]",
   "language": "python",
   "name": "conda-root-py"
  },
  "language_info": {
   "codemirror_mode": {
    "name": "ipython",
    "version": 3
   },
   "file_extension": ".py",
   "mimetype": "text/x-python",
   "name": "python",
   "nbconvert_exporter": "python",
   "pygments_lexer": "ipython3",
   "version": "3.5.2"
  }
 },
 "nbformat": 4,
 "nbformat_minor": 1
}
