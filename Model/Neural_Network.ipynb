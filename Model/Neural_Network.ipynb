{
 "cells": [
  {
   "cell_type": "code",
   "execution_count": 1,
   "metadata": {
    "collapsed": false
   },
   "outputs": [],
   "source": [
    "import tensorflow as tf\n",
    "import numpy as np\n",
    "import pandas as pd\n",
    "from sklearn.model_selection import KFold\n",
    "import os"
   ]
  },
  {
   "cell_type": "code",
   "execution_count": 2,
   "metadata": {
    "collapsed": true
   },
   "outputs": [],
   "source": [
    "df = pd.read_csv(\"../features/features.csv\", sep=',', header=None)"
   ]
  },
  {
   "cell_type": "code",
   "execution_count": 3,
   "metadata": {
    "collapsed": false
   },
   "outputs": [
    {
     "data": {
      "text/plain": [
       "0"
      ]
     },
     "execution_count": 3,
     "metadata": {},
     "output_type": "execute_result"
    }
   ],
   "source": [
    "df.isnull().sum().sum()"
   ]
  },
  {
   "cell_type": "code",
   "execution_count": 4,
   "metadata": {
    "collapsed": false
   },
   "outputs": [],
   "source": [
    "df = df.fillna(0)"
   ]
  },
  {
   "cell_type": "code",
   "execution_count": 5,
   "metadata": {
    "collapsed": false
   },
   "outputs": [],
   "source": [
    "no_nulls = df.apply(lambda row : \n",
    "          any([ e == (\"null\") for e in row ])\n",
    "       , axis=1) "
   ]
  },
  {
   "cell_type": "code",
   "execution_count": 6,
   "metadata": {
    "collapsed": false
   },
   "outputs": [
    {
     "data": {
      "text/plain": [
       "True"
      ]
     },
     "execution_count": 6,
     "metadata": {},
     "output_type": "execute_result"
    }
   ],
   "source": [
    "no_nulls[597]"
   ]
  },
  {
   "cell_type": "code",
   "execution_count": 7,
   "metadata": {
    "collapsed": false
   },
   "outputs": [
    {
     "data": {
      "text/html": [
       "<div>\n",
       "<table border=\"1\" class=\"dataframe\">\n",
       "  <thead>\n",
       "    <tr style=\"text-align: right;\">\n",
       "      <th></th>\n",
       "      <th>0</th>\n",
       "      <th>1</th>\n",
       "      <th>2</th>\n",
       "      <th>3</th>\n",
       "      <th>4</th>\n",
       "      <th>5</th>\n",
       "      <th>6</th>\n",
       "      <th>7</th>\n",
       "      <th>8</th>\n",
       "      <th>9</th>\n",
       "      <th>...</th>\n",
       "      <th>162</th>\n",
       "      <th>163</th>\n",
       "      <th>164</th>\n",
       "      <th>165</th>\n",
       "      <th>166</th>\n",
       "      <th>167</th>\n",
       "      <th>168</th>\n",
       "      <th>169</th>\n",
       "      <th>170</th>\n",
       "      <th>171</th>\n",
       "    </tr>\n",
       "  </thead>\n",
       "  <tbody>\n",
       "    <tr>\n",
       "      <th>597</th>\n",
       "      <td>purple</td>\n",
       "      <td>1599765459</td>\n",
       "      <td>null</td>\n",
       "      <td>null</td>\n",
       "      <td>null</td>\n",
       "      <td>null</td>\n",
       "      <td>null</td>\n",
       "      <td>null</td>\n",
       "      <td>null</td>\n",
       "      <td>null</td>\n",
       "      <td>...</td>\n",
       "      <td>25669.053</td>\n",
       "      <td>441.94736</td>\n",
       "      <td>4.5789475</td>\n",
       "      <td>5.868421</td>\n",
       "      <td>0.05263158</td>\n",
       "      <td>0.05526315</td>\n",
       "      <td>236.07895</td>\n",
       "      <td>369.8</td>\n",
       "      <td>0.05263158</td>\n",
       "      <td>0.05263158</td>\n",
       "    </tr>\n",
       "  </tbody>\n",
       "</table>\n",
       "<p>1 rows × 172 columns</p>\n",
       "</div>"
      ],
      "text/plain": [
       "        0           1     2     3     4     5     6     7     8     9    \\\n",
       "597  purple  1599765459  null  null  null  null  null  null  null  null   \n",
       "\n",
       "        ...            162        163        164       165         166  \\\n",
       "597     ...      25669.053  441.94736  4.5789475  5.868421  0.05263158   \n",
       "\n",
       "            167        168    169         170         171  \n",
       "597  0.05526315  236.07895  369.8  0.05263158  0.05263158  \n",
       "\n",
       "[1 rows x 172 columns]"
      ]
     },
     "execution_count": 7,
     "metadata": {},
     "output_type": "execute_result"
    }
   ],
   "source": [
    "df.loc[[597]]"
   ]
  },
  {
   "cell_type": "code",
   "execution_count": 8,
   "metadata": {
    "collapsed": false
   },
   "outputs": [],
   "source": [
    "df = df[~no_nulls]\n",
    "df = df.apply(pd.to_numeric, errors='ignore')\n"
   ]
  },
  {
   "cell_type": "code",
   "execution_count": 9,
   "metadata": {
    "collapsed": false,
    "scrolled": true
   },
   "outputs": [
    {
     "data": {
      "text/html": [
       "<div>\n",
       "<table border=\"1\" class=\"dataframe\">\n",
       "  <thead>\n",
       "    <tr style=\"text-align: right;\">\n",
       "      <th></th>\n",
       "      <th>0</th>\n",
       "      <th>1</th>\n",
       "      <th>2</th>\n",
       "      <th>3</th>\n",
       "      <th>4</th>\n",
       "      <th>5</th>\n",
       "      <th>6</th>\n",
       "      <th>7</th>\n",
       "      <th>8</th>\n",
       "      <th>9</th>\n",
       "      <th>...</th>\n",
       "      <th>162</th>\n",
       "      <th>163</th>\n",
       "      <th>164</th>\n",
       "      <th>165</th>\n",
       "      <th>166</th>\n",
       "      <th>167</th>\n",
       "      <th>168</th>\n",
       "      <th>169</th>\n",
       "      <th>170</th>\n",
       "      <th>171</th>\n",
       "    </tr>\n",
       "  </thead>\n",
       "  <tbody>\n",
       "    <tr>\n",
       "      <th>0</th>\n",
       "      <td>blue</td>\n",
       "      <td>1590361949</td>\n",
       "      <td>0.500000</td>\n",
       "      <td>394.38733</td>\n",
       "      <td>1.884146</td>\n",
       "      <td>0.884146</td>\n",
       "      <td>2.550000</td>\n",
       "      <td>148904.95</td>\n",
       "      <td>21593.250</td>\n",
       "      <td>26485.550</td>\n",
       "      <td>...</td>\n",
       "      <td>30334.200</td>\n",
       "      <td>1902.20000</td>\n",
       "      <td>3.960000</td>\n",
       "      <td>5.550000</td>\n",
       "      <td>0.050000</td>\n",
       "      <td>0.662500</td>\n",
       "      <td>238.48001</td>\n",
       "      <td>407.56000</td>\n",
       "      <td>0.050000</td>\n",
       "      <td>38.792503</td>\n",
       "    </tr>\n",
       "    <tr>\n",
       "      <th>1</th>\n",
       "      <td>blue</td>\n",
       "      <td>1604941176</td>\n",
       "      <td>0.421053</td>\n",
       "      <td>358.31810</td>\n",
       "      <td>1.705357</td>\n",
       "      <td>0.705357</td>\n",
       "      <td>1.947368</td>\n",
       "      <td>90007.52</td>\n",
       "      <td>13427.842</td>\n",
       "      <td>17912.000</td>\n",
       "      <td>...</td>\n",
       "      <td>22437.300</td>\n",
       "      <td>298.20000</td>\n",
       "      <td>1.080000</td>\n",
       "      <td>1.530000</td>\n",
       "      <td>0.055000</td>\n",
       "      <td>0.177500</td>\n",
       "      <td>167.64499</td>\n",
       "      <td>298.63500</td>\n",
       "      <td>9.492499</td>\n",
       "      <td>0.050000</td>\n",
       "    </tr>\n",
       "    <tr>\n",
       "      <th>2</th>\n",
       "      <td>blue</td>\n",
       "      <td>1604313975</td>\n",
       "      <td>0.526316</td>\n",
       "      <td>353.67276</td>\n",
       "      <td>1.945946</td>\n",
       "      <td>0.945946</td>\n",
       "      <td>2.368421</td>\n",
       "      <td>74615.42</td>\n",
       "      <td>12151.263</td>\n",
       "      <td>20228.000</td>\n",
       "      <td>...</td>\n",
       "      <td>28976.790</td>\n",
       "      <td>415.05264</td>\n",
       "      <td>0.952632</td>\n",
       "      <td>1.363158</td>\n",
       "      <td>0.057895</td>\n",
       "      <td>0.052632</td>\n",
       "      <td>211.42632</td>\n",
       "      <td>326.96313</td>\n",
       "      <td>11.452632</td>\n",
       "      <td>0.052632</td>\n",
       "    </tr>\n",
       "    <tr>\n",
       "      <th>3</th>\n",
       "      <td>purple</td>\n",
       "      <td>1595899540</td>\n",
       "      <td>0.736842</td>\n",
       "      <td>413.60680</td>\n",
       "      <td>2.380000</td>\n",
       "      <td>1.380000</td>\n",
       "      <td>3.631579</td>\n",
       "      <td>144662.05</td>\n",
       "      <td>18813.578</td>\n",
       "      <td>19041.158</td>\n",
       "      <td>...</td>\n",
       "      <td>25255.790</td>\n",
       "      <td>358.36840</td>\n",
       "      <td>1.136842</td>\n",
       "      <td>1.357895</td>\n",
       "      <td>0.052632</td>\n",
       "      <td>0.052632</td>\n",
       "      <td>201.98947</td>\n",
       "      <td>343.47370</td>\n",
       "      <td>0.052632</td>\n",
       "      <td>0.052632</td>\n",
       "    </tr>\n",
       "    <tr>\n",
       "      <th>4</th>\n",
       "      <td>blue</td>\n",
       "      <td>1604303561</td>\n",
       "      <td>0.526316</td>\n",
       "      <td>373.19904</td>\n",
       "      <td>2.037037</td>\n",
       "      <td>1.037037</td>\n",
       "      <td>2.736842</td>\n",
       "      <td>142241.31</td>\n",
       "      <td>20665.000</td>\n",
       "      <td>20751.105</td>\n",
       "      <td>...</td>\n",
       "      <td>26728.578</td>\n",
       "      <td>363.21054</td>\n",
       "      <td>3.173684</td>\n",
       "      <td>3.484210</td>\n",
       "      <td>0.052632</td>\n",
       "      <td>0.052632</td>\n",
       "      <td>199.08948</td>\n",
       "      <td>316.16318</td>\n",
       "      <td>0.052632</td>\n",
       "      <td>0.052632</td>\n",
       "    </tr>\n",
       "  </tbody>\n",
       "</table>\n",
       "<p>5 rows × 172 columns</p>\n",
       "</div>"
      ],
      "text/plain": [
       "      0           1         2          3         4         5         6    \\\n",
       "0    blue  1590361949  0.500000  394.38733  1.884146  0.884146  2.550000   \n",
       "1    blue  1604941176  0.421053  358.31810  1.705357  0.705357  1.947368   \n",
       "2    blue  1604313975  0.526316  353.67276  1.945946  0.945946  2.368421   \n",
       "3  purple  1595899540  0.736842  413.60680  2.380000  1.380000  3.631579   \n",
       "4    blue  1604303561  0.526316  373.19904  2.037037  1.037037  2.736842   \n",
       "\n",
       "         7          8          9      ...            162         163  \\\n",
       "0  148904.95  21593.250  26485.550    ...      30334.200  1902.20000   \n",
       "1   90007.52  13427.842  17912.000    ...      22437.300   298.20000   \n",
       "2   74615.42  12151.263  20228.000    ...      28976.790   415.05264   \n",
       "3  144662.05  18813.578  19041.158    ...      25255.790   358.36840   \n",
       "4  142241.31  20665.000  20751.105    ...      26728.578   363.21054   \n",
       "\n",
       "        164       165       166       167        168        169        170  \\\n",
       "0  3.960000  5.550000  0.050000  0.662500  238.48001  407.56000   0.050000   \n",
       "1  1.080000  1.530000  0.055000  0.177500  167.64499  298.63500   9.492499   \n",
       "2  0.952632  1.363158  0.057895  0.052632  211.42632  326.96313  11.452632   \n",
       "3  1.136842  1.357895  0.052632  0.052632  201.98947  343.47370   0.052632   \n",
       "4  3.173684  3.484210  0.052632  0.052632  199.08948  316.16318   0.052632   \n",
       "\n",
       "         171  \n",
       "0  38.792503  \n",
       "1   0.050000  \n",
       "2   0.052632  \n",
       "3   0.052632  \n",
       "4   0.052632  \n",
       "\n",
       "[5 rows x 172 columns]"
      ]
     },
     "execution_count": 9,
     "metadata": {},
     "output_type": "execute_result"
    }
   ],
   "source": [
    "df.head(5)"
   ]
  },
  {
   "cell_type": "code",
   "execution_count": 22,
   "metadata": {
    "collapsed": false
   },
   "outputs": [],
   "source": [
    "#df = df.replace(to_replace='null', value=0)\n",
    "#df = df.replace(to_replace='infinity', value=0)"
   ]
  },
  {
   "cell_type": "code",
   "execution_count": 10,
   "metadata": {
    "collapsed": false
   },
   "outputs": [],
   "source": [
    "#Global constants\n",
    "seed = 42\n",
    "validation_size = 100\n",
    "feature_count = df.shape[1] - 2\n",
    "\n",
    "#feed forward neural net\n",
    "n_nodes_hl1 = 150\n",
    "n_nodes_hl2 = 150\n",
    "n_nodes_hl3 = 150\n",
    "\n",
    "#cycles of feed forward + backprop on all K-folded samples\n",
    "hm_epochs = 50\n",
    "\n",
    "n_classes = 2\n",
    "batch_size = 8\n",
    "\n",
    "keep_rate = 0.8\n",
    "keep_prob = tf.placeholder(tf.float32)"
   ]
  },
  {
   "cell_type": "code",
   "execution_count": 23,
   "metadata": {
    "collapsed": false
   },
   "outputs": [],
   "source": [
    "import pickle\n",
    "\n",
    "X = np.asarray(df.ix[:,2:feature_count+2])\n",
    "#standardize X\n",
    "meanX = np.mean(X, axis = 0)\n",
    "stdX = np.std(X, axis = 0)\n",
    "\n",
    "f = open('mean.pckl', 'wb')\n",
    "pickle.dump(meanX, f)\n",
    "f.close()\n",
    "\n",
    "f = open('std.pckl', 'wb')\n",
    "pickle.dump(stdX, f)\n",
    "f.close()\n",
    "\n",
    "X = (X - meanX) / stdX\n",
    "\n",
    "Y_1 = np.asarray(df.ix[:,0])\n",
    "Y_1 = [int(y == \"purple\") for y in Y_1]\n",
    "#one hot Y\n",
    "Y = np.zeros(shape=(len(Y_1), n_classes))\n",
    "Y[np.arange(len(Y_1)), Y_1] = 1\n",
    "    \n",
    "validation_features = X[:validation_size]\n",
    "validation_labels = Y[:validation_size]\n",
    "\n",
    "train_features = X[validation_size:]\n",
    "train_labels = Y[validation_size:]\n",
    "\n",
    "num_examples = train_features.shape[0]"
   ]
  },
  {
   "cell_type": "code",
   "execution_count": 21,
   "metadata": {
    "collapsed": false
   },
   "outputs": [
    {
     "data": {
      "text/plain": [
       "170"
      ]
     },
     "execution_count": 21,
     "metadata": {},
     "output_type": "execute_result"
    }
   ],
   "source": []
  },
  {
   "cell_type": "code",
   "execution_count": 24,
   "metadata": {
    "collapsed": false
   },
   "outputs": [],
   "source": [
    "def neural_network_model(data):\n",
    "    \n",
    "    hidden_1_layer = {\n",
    "        'weights': tf.Variable(tf.truncated_normal([feature_count, n_nodes_hl1], stddev=0.1, seed=seed)),\n",
    "        'biases': tf.Variable(tf.constant(1.0, shape=[n_nodes_hl1]))\n",
    "    }\n",
    "    \n",
    "    hidden_2_layer = {\n",
    "        'weights': tf.Variable(tf.truncated_normal([n_nodes_hl1, n_nodes_hl2], stddev=0.1, seed=seed)),\n",
    "        'biases': tf.Variable(tf.constant(1.0, shape=[n_nodes_hl2]))\n",
    "    }\n",
    "    \n",
    "    hidden_3_layer = {\n",
    "        'weights': tf.Variable(tf.truncated_normal([n_nodes_hl2, n_nodes_hl3], stddev=0.1, seed=seed)),\n",
    "        'biases': tf.Variable(tf.constant(1.0, shape=[n_nodes_hl3]))\n",
    "    }\n",
    "    \n",
    "    output_layer = {\n",
    "        'weights': tf.Variable(tf.truncated_normal([n_nodes_hl3, n_classes], stddev=0.1, seed=seed)),\n",
    "        'biases': tf.Variable(tf.constant(1.0, shape=[n_classes]))\n",
    "    }\n",
    "    \n",
    "    l1 = tf.add(tf.matmul(data, hidden_1_layer['weights']), hidden_1_layer['biases'])\n",
    "    l1 = tf.nn.relu(l1)\n",
    "    \n",
    "    l2 = tf.add(tf.matmul(l1, hidden_2_layer['weights']), hidden_2_layer['biases'])\n",
    "    l2 = tf.nn.relu(l2)\n",
    "    \n",
    "    l3 = tf.add(tf.matmul(l2, hidden_3_layer['weights']), hidden_3_layer['biases'])\n",
    "    l3 = tf.nn.sigmoid(l3)\n",
    "    \n",
    "    output = tf.matmul(l3, output_layer['weights']) +  output_layer['biases']\n",
    "    \n",
    "    regularizers = (tf.nn.l2_loss(hidden_1_layer['weights']) + tf.nn.l2_loss(hidden_1_layer['biases']) +\n",
    "                        tf.nn.l2_loss(hidden_2_layer['weights']) + tf.nn.l2_loss(hidden_2_layer['biases']) +\n",
    "                            tf.nn.l2_loss(hidden_3_layer['weights']) + tf.nn.l2_loss(hidden_3_layer['biases']) +\n",
    "                                tf.nn.l2_loss(output_layer['weights']) + tf.nn.l2_loss(output_layer['biases']))\n",
    "    \n",
    "    return output, regularizers"
   ]
  },
  {
   "cell_type": "code",
   "execution_count": 25,
   "metadata": {
    "collapsed": true
   },
   "outputs": [],
   "source": [
    "def train_neural_network_CV(x, lambda_):\n",
    "    \n",
    "    prediction, regularizers = neural_network_model(x)\n",
    "    \n",
    "    cost = tf.reduce_mean(tf.nn.softmax_cross_entropy_with_logits(prediction, y))\n",
    "    #log_loss = tf.contrib.losses.log_loss(predictions=prediction, labels=y)\n",
    "\n",
    "    #Eval this to get probability of [winning,losing]\n",
    "    prob = tf.nn.softmax(prediction)\n",
    "    \n",
    "    #learning rate can be passed\n",
    "    optimizer = tf.train.AdamOptimizer().minimize(cost + lambda_ * regularizers)\n",
    "    \n",
    "    #metrics\n",
    "    correct_prediction = tf.equal(tf.argmax(prediction,1), tf.argmax(y,1))\n",
    "    false_prediction = tf.logical_not(correct_prediction)\n",
    "    accuracy = tf.reduce_mean(tf.cast(correct_prediction, 'float'))\n",
    "\n",
    "    true_positives = tf.reduce_sum(tf.to_int32(tf.logical_and(correct_prediction, tf.equal(tf.argmax(tf.nn.softmax(y),1), True) )))\n",
    "    false_positives = tf.reduce_sum(tf.to_int32(tf.logical_and(false_prediction, tf.equal(tf.argmax(tf.nn.softmax(y),1), True) )))\n",
    "    true_negatives = tf.reduce_sum(tf.to_int32(tf.logical_and(correct_prediction, tf.equal(tf.argmax(tf.nn.softmax(y),1), False) )))\n",
    "    false_negatives = tf.reduce_sum(tf.to_int32(tf.logical_and(false_prediction, tf.equal(tf.argmax(tf.nn.softmax(y),1), False) )))\n",
    "\n",
    "\n",
    "    display_step = 1\n",
    "    \n",
    "    with tf.Session() as sess:\n",
    "        sess.run(tf.global_variables_initializer())\n",
    "        \n",
    "        for epoch in range(hm_epochs):\n",
    "            #epoch_loss = 0\n",
    "            \n",
    "            #train and acc summed over all folds\n",
    "            test_accs = []\n",
    "            train_accs = []\n",
    "            \n",
    "            kf = KFold(n_splits=10, random_state=seed, shuffle=True)\n",
    "            for train_index, test_index in kf.split(train_features, train_labels):\n",
    "                X_train, X_test = train_features[train_index], train_features[test_index]\n",
    "                y_train, y_test = train_labels[train_index], train_labels[test_index]\n",
    "                \n",
    "                _, c = sess.run([optimizer, cost], feed_dict = {x: X_train, y: y_train})\n",
    "                #epoch_loss += c\n",
    "                \n",
    "                train_accuracy = accuracy.eval(feed_dict={ x: X_train, y: y_train})  \n",
    "                test_accuracy = accuracy.eval(feed_dict={ x: X_test, y: y_test})  \n",
    "                \n",
    "                \n",
    "                train_accs.append(train_accuracy)\n",
    "                test_accs.append(test_accuracy)\n",
    "                \n",
    "            train_acc = np.sum(train_accs) / len(train_accs)\n",
    "            test_acc = np.sum(test_accs) / len(test_accs)\n",
    "            \n",
    "            # increase display_step after 10 iteration of same decimal\n",
    "            if epoch%(display_step*10) == 0 and epoch:\n",
    "                display_step *= 10\n",
    "                \n",
    "            if epoch%display_step == 0 or (epoch+1) == hm_epochs:\n",
    "               \n",
    "                #prob_test = validation_features[0].reshape((1,validation_features[0].shape[0]))\n",
    "                #prob_value = prob.eval(feed_dict={ x:prob_test})  \n",
    "                #print('probability test', prob_value)\n",
    "                \n",
    "                validation_accuracy = accuracy.eval(feed_dict={ x: validation_features, y: validation_labels})     \n",
    "                print('train accuracy => %.2f, test acc =>  %.2f, validation accuracy => %.2f for epoch %d' % (train_acc, test_acc, validation_accuracy, epoch))\n",
    "\n",
    "        saver = tf.train.Saver()\n",
    "        save_path = saver.save(sess, model_path)        "
   ]
  },
  {
   "cell_type": "code",
   "execution_count": 26,
   "metadata": {
    "collapsed": false
   },
   "outputs": [
    {
     "name": "stdout",
     "output_type": "stream",
     "text": [
      "train accuracy => 0.54, test acc =>  0.54, validation accuracy => 0.45 for epoch 0\n",
      "train accuracy => 0.60, test acc =>  0.60, validation accuracy => 0.42 for epoch 1\n",
      "train accuracy => 0.63, test acc =>  0.63, validation accuracy => 0.47 for epoch 2\n",
      "train accuracy => 0.66, test acc =>  0.66, validation accuracy => 0.49 for epoch 3\n",
      "train accuracy => 0.69, test acc =>  0.69, validation accuracy => 0.48 for epoch 4\n",
      "train accuracy => 0.73, test acc =>  0.73, validation accuracy => 0.47 for epoch 5\n",
      "train accuracy => 0.77, test acc =>  0.77, validation accuracy => 0.47 for epoch 6\n",
      "train accuracy => 0.82, test acc =>  0.81, validation accuracy => 0.45 for epoch 7\n",
      "train accuracy => 0.87, test acc =>  0.87, validation accuracy => 0.41 for epoch 8\n",
      "train accuracy => 0.92, test acc =>  0.92, validation accuracy => 0.44 for epoch 9\n",
      "train accuracy => 0.96, test acc =>  0.96, validation accuracy => 0.46 for epoch 10\n",
      "train accuracy => 1.00, test acc =>  1.00, validation accuracy => 0.45 for epoch 20\n",
      "train accuracy => 1.00, test acc =>  1.00, validation accuracy => 0.44 for epoch 30\n",
      "train accuracy => 1.00, test acc =>  1.00, validation accuracy => 0.43 for epoch 40\n",
      "train accuracy => 1.00, test acc =>  1.00, validation accuracy => 0.43 for epoch 49\n"
     ]
    }
   ],
   "source": [
    "x = tf.placeholder('float', [None, feature_count])\n",
    "y = tf.placeholder('float', [None, n_classes])\n",
    "\n",
    "model_path = \"./tmp/model.ckpt\"\n",
    "save_dir = './tmp/'\n",
    "if not os.path.isdir(save_dir):\n",
    "    os.mkdir(save_dir)\n",
    "\n",
    "L2_lambda_ = 5e-5\n",
    "train_neural_network_CV(x, L2_lambda_)"
   ]
  },
  {
   "cell_type": "code",
   "execution_count": null,
   "metadata": {
    "collapsed": false
   },
   "outputs": [],
   "source": []
  },
  {
   "cell_type": "code",
   "execution_count": 28,
   "metadata": {
    "collapsed": false
   },
   "outputs": [
    {
     "name": "stdout",
     "output_type": "stream",
     "text": [
      "probability test [[ 0.38545015  0.61454988]]\n"
     ]
    }
   ],
   "source": [
    "# Running a new session to predict based on model\n",
    "#TODO make sure it works and test\n",
    "prediction, regularizers = neural_network_model(x)\n",
    "#Eval this to get probability of [winning,losing]\n",
    "prob = tf.nn.softmax(prediction)\n",
    "\n",
    "with tf.Session() as sess:\n",
    "    # Initialize variables\n",
    "    sess.run(tf.global_variables_initializer())\n",
    "    \n",
    "#     saver.restore(sess, model_path)\n",
    "    new_saver = tf.train.import_meta_graph(model_path + \".meta\")\n",
    "    new_saver.restore(sess, tf.train.latest_checkpoint('./tmp'))\n",
    "    \n",
    "    #test random sample from validation test\n",
    "    prob_test = validation_features[40].reshape((1,validation_features[0].shape[0]))\n",
    "    prob_value = prob.eval(feed_dict={ x:prob_test})  \n",
    "    print('probability test', prob_value)\n",
    "    \n",
    "    "
   ]
  },
  {
   "cell_type": "code",
   "execution_count": 29,
   "metadata": {
    "collapsed": false
   },
   "outputs": [
    {
     "data": {
      "text/plain": [
       "array([-0.32692872, -0.31204851, -0.32684987, -0.32688453, -0.32676454,\n",
       "        5.21943154,  0.50826235,  0.38402118, -0.31375633, -0.32673353,\n",
       "       -0.32671255, -0.32694888, -0.32693146, -0.31751632, -0.31180154,\n",
       "       -0.32656407, -0.32534424, -0.32692872, -0.31120542, -0.32684049,\n",
       "       -0.32687515, -0.32676819,  8.44878065,  0.94904214,  0.38893186,\n",
       "       -0.30494007, -0.32671912, -0.32670471, -0.32695061, -0.3269403 ,\n",
       "       -0.3168691 , -0.31103848, -0.32660903, -0.32516702, -0.32693602,\n",
       "       -0.31333459, -0.32688257, -0.32691723, -0.32682657,  3.58025366,\n",
       "        0.43102299,  0.67482447, -0.31463558, -0.32677403, -0.32673244,\n",
       "       -0.32695061, -0.32691869, -0.31811666, -0.31209724, -0.32695061,\n",
       "       -0.32602666, -0.32692689, -0.31192594, -0.32686835, -0.32690301,\n",
       "       -0.32682292,  5.78753747,  0.55221774,  0.5592773 , -0.30653076,\n",
       "       -0.3267972 , -0.32680522, -0.32692735, -0.32695061, -0.3169428 ,\n",
       "       -0.31257845, -0.32593181, -0.32630248, -0.3269351 , -0.31459225,\n",
       "       -0.32687734, -0.326912  , -0.32685019,  2.27890019,  0.26609751,\n",
       "        0.26042377, -0.31155673, -0.32688207, -0.32685833, -0.3269507 ,\n",
       "       -0.3269507 , -0.31912946, -0.31369608, -0.3269507 , -0.32537006,\n",
       "       -0.32693602, -0.31349467, -0.32688095, -0.32691561, -0.3268521 ,\n",
       "        4.10778626,  0.24002783,  0.40965818, -0.31650171, -0.32682474,\n",
       "       -0.32680249, -0.32695061, -0.32695061, -0.31767193, -0.31278076,\n",
       "       -0.32695061, -0.32695061, -0.3269351 , -0.31323972, -0.32687816,\n",
       "       -0.32691282, -0.32685539,  6.15701943,  0.5269805 ,  0.45189612,\n",
       "       -0.3139049 , -0.32673044, -0.32672022, -0.3269507 , -0.32694637,\n",
       "       -0.31819175, -0.31235719, -0.3269507 , -0.3269507 , -0.32693054,\n",
       "       -0.31278984, -0.32684381, -0.32687847, -0.32673718,  3.35458288,\n",
       "        0.55595   ,  0.40239613, -0.32191405, -0.32681197, -0.32680851,\n",
       "       -0.32694204, -0.32695061, -0.31696724, -0.31184769, -0.32506149,\n",
       "       -0.32470386, -0.32693164, -0.31240127, -0.32685428, -0.32688894,\n",
       "       -0.3267826 ,  4.66697398,  0.61270878,  0.39842881, -0.31358084,\n",
       "       -0.32678728, -0.32677411, -0.32692809, -0.32693484, -0.3163633 ,\n",
       "       -0.31168965, -0.32581041, -0.32581569, -0.32692325, -0.31527433,\n",
       "       -0.3268936 , -0.32692826, -0.32691048,  0.89425119, -0.05108737,\n",
       "        0.30523306, -0.31179533, -0.32690373, -0.32688603, -0.32694231,\n",
       "       -0.32692662, -0.32028214, -0.31461351, -0.32695061, -0.32489239])"
      ]
     },
     "execution_count": 29,
     "metadata": {},
     "output_type": "execute_result"
    }
   ],
   "source": [
    "prob_test[0]"
   ]
  },
  {
   "cell_type": "code",
   "execution_count": null,
   "metadata": {
    "collapsed": true
   },
   "outputs": [],
   "source": []
  }
 ],
 "metadata": {
  "anaconda-cloud": {},
  "kernelspec": {
   "display_name": "Python [conda root]",
   "language": "python",
   "name": "conda-root-py"
  },
  "language_info": {
   "codemirror_mode": {
    "name": "ipython",
    "version": 3
   },
   "file_extension": ".py",
   "mimetype": "text/x-python",
   "name": "python",
   "nbconvert_exporter": "python",
   "pygments_lexer": "ipython3",
   "version": "3.5.2"
  }
 },
 "nbformat": 4,
 "nbformat_minor": 1
}
