{
 "cells": [
  {
   "cell_type": "code",
   "execution_count": 1,
   "metadata": {
    "collapsed": true
   },
   "outputs": [],
   "source": [
    "import pandas as pd\n",
    "import numpy as np\n",
    "import json\n",
    "import csv\n",
    "\n",
    "%matplotlib inline\n",
    "import matplotlib.pyplot as plt"
   ]
  },
  {
   "cell_type": "code",
   "execution_count": 2,
   "metadata": {
    "collapsed": false
   },
   "outputs": [
    {
     "data": {
      "text/html": [
       "<div>\n",
       "<table border=\"1\" class=\"dataframe\">\n",
       "  <thead>\n",
       "    <tr style=\"text-align: right;\">\n",
       "      <th></th>\n",
       "      <th>summ_id</th>\n",
       "      <th>winrate</th>\n",
       "      <th>GPM</th>\n",
       "      <th>KDA</th>\n",
       "      <th>KD</th>\n",
       "      <th>largestKillingSpree</th>\n",
       "      <th>totalDamageDealt</th>\n",
       "      <th>totalDamageDealtToChampions</th>\n",
       "      <th>totalDamageTaken</th>\n",
       "      <th>totalTimeCrowdControlDealt</th>\n",
       "      <th>cs10</th>\n",
       "      <th>cs20</th>\n",
       "      <th>csDiff10</th>\n",
       "      <th>csDiff20</th>\n",
       "      <th>gpm10</th>\n",
       "      <th>gpm20</th>\n",
       "      <th>xpDiff10</th>\n",
       "      <th>xpDiff20</th>\n",
       "    </tr>\n",
       "  </thead>\n",
       "  <tbody>\n",
       "    <tr>\n",
       "      <th>0</th>\n",
       "      <td>19478025</td>\n",
       "      <td>0.523810</td>\n",
       "      <td>318.67000</td>\n",
       "      <td>1.573643</td>\n",
       "      <td>0.573643</td>\n",
       "      <td>1.571428</td>\n",
       "      <td>60679.523</td>\n",
       "      <td>10714.143</td>\n",
       "      <td>23101.143</td>\n",
       "      <td>263.09525</td>\n",
       "      <td>1.228571</td>\n",
       "      <td>1.428572</td>\n",
       "      <td>0.342857</td>\n",
       "      <td>-0.102381</td>\n",
       "      <td>191.65237</td>\n",
       "      <td>324.37620</td>\n",
       "      <td>-7.354762</td>\n",
       "      <td>-5.321429</td>\n",
       "    </tr>\n",
       "    <tr>\n",
       "      <th>1</th>\n",
       "      <td>74297009</td>\n",
       "      <td>0.421053</td>\n",
       "      <td>387.07596</td>\n",
       "      <td>2.119565</td>\n",
       "      <td>1.119565</td>\n",
       "      <td>2.684210</td>\n",
       "      <td>155774.950</td>\n",
       "      <td>24705.475</td>\n",
       "      <td>19828.736</td>\n",
       "      <td>362.21054</td>\n",
       "      <td>6.521053</td>\n",
       "      <td>6.668421</td>\n",
       "      <td>-0.152632</td>\n",
       "      <td>-0.252632</td>\n",
       "      <td>256.74738</td>\n",
       "      <td>388.51578</td>\n",
       "      <td>-2.589473</td>\n",
       "      <td>9.900000</td>\n",
       "    </tr>\n",
       "    <tr>\n",
       "      <th>2</th>\n",
       "      <td>86947169</td>\n",
       "      <td>0.600000</td>\n",
       "      <td>399.83084</td>\n",
       "      <td>3.111111</td>\n",
       "      <td>2.111111</td>\n",
       "      <td>4.800000</td>\n",
       "      <td>120504.600</td>\n",
       "      <td>22129.650</td>\n",
       "      <td>16005.800</td>\n",
       "      <td>137.30000</td>\n",
       "      <td>4.625000</td>\n",
       "      <td>5.140000</td>\n",
       "      <td>-0.070000</td>\n",
       "      <td>-0.230000</td>\n",
       "      <td>241.83000</td>\n",
       "      <td>425.95000</td>\n",
       "      <td>23.502500</td>\n",
       "      <td>34.620003</td>\n",
       "    </tr>\n",
       "    <tr>\n",
       "      <th>3</th>\n",
       "      <td>70331215</td>\n",
       "      <td>0.450000</td>\n",
       "      <td>363.52585</td>\n",
       "      <td>1.683871</td>\n",
       "      <td>0.683871</td>\n",
       "      <td>2.300000</td>\n",
       "      <td>103688.500</td>\n",
       "      <td>15967.300</td>\n",
       "      <td>21331.850</td>\n",
       "      <td>242.50000</td>\n",
       "      <td>3.945000</td>\n",
       "      <td>4.155000</td>\n",
       "      <td>0.040000</td>\n",
       "      <td>-0.230000</td>\n",
       "      <td>235.22500</td>\n",
       "      <td>356.22500</td>\n",
       "      <td>-14.315000</td>\n",
       "      <td>-79.640000</td>\n",
       "    </tr>\n",
       "    <tr>\n",
       "      <th>4</th>\n",
       "      <td>51778156</td>\n",
       "      <td>0.400000</td>\n",
       "      <td>369.88754</td>\n",
       "      <td>1.630303</td>\n",
       "      <td>0.630303</td>\n",
       "      <td>2.550000</td>\n",
       "      <td>120699.900</td>\n",
       "      <td>21147.600</td>\n",
       "      <td>23774.650</td>\n",
       "      <td>495.30000</td>\n",
       "      <td>4.015000</td>\n",
       "      <td>4.350000</td>\n",
       "      <td>-0.460000</td>\n",
       "      <td>-0.995000</td>\n",
       "      <td>245.55501</td>\n",
       "      <td>368.88998</td>\n",
       "      <td>-15.347501</td>\n",
       "      <td>-56.822500</td>\n",
       "    </tr>\n",
       "  </tbody>\n",
       "</table>\n",
       "</div>"
      ],
      "text/plain": [
       "    summ_id   winrate        GPM       KDA        KD  largestKillingSpree  \\\n",
       "0  19478025  0.523810  318.67000  1.573643  0.573643             1.571428   \n",
       "1  74297009  0.421053  387.07596  2.119565  1.119565             2.684210   \n",
       "2  86947169  0.600000  399.83084  3.111111  2.111111             4.800000   \n",
       "3  70331215  0.450000  363.52585  1.683871  0.683871             2.300000   \n",
       "4  51778156  0.400000  369.88754  1.630303  0.630303             2.550000   \n",
       "\n",
       "   totalDamageDealt  totalDamageDealtToChampions  totalDamageTaken  \\\n",
       "0         60679.523                    10714.143         23101.143   \n",
       "1        155774.950                    24705.475         19828.736   \n",
       "2        120504.600                    22129.650         16005.800   \n",
       "3        103688.500                    15967.300         21331.850   \n",
       "4        120699.900                    21147.600         23774.650   \n",
       "\n",
       "   totalTimeCrowdControlDealt      cs10      cs20  csDiff10  csDiff20  \\\n",
       "0                   263.09525  1.228571  1.428572  0.342857 -0.102381   \n",
       "1                   362.21054  6.521053  6.668421 -0.152632 -0.252632   \n",
       "2                   137.30000  4.625000  5.140000 -0.070000 -0.230000   \n",
       "3                   242.50000  3.945000  4.155000  0.040000 -0.230000   \n",
       "4                   495.30000  4.015000  4.350000 -0.460000 -0.995000   \n",
       "\n",
       "       gpm10      gpm20   xpDiff10   xpDiff20  \n",
       "0  191.65237  324.37620  -7.354762  -5.321429  \n",
       "1  256.74738  388.51578  -2.589473   9.900000  \n",
       "2  241.83000  425.95000  23.502500  34.620003  \n",
       "3  235.22500  356.22500 -14.315000 -79.640000  \n",
       "4  245.55501  368.88998 -15.347501 -56.822500  "
      ]
     },
     "execution_count": 2,
     "metadata": {},
     "output_type": "execute_result"
    }
   ],
   "source": [
    "feat = [\"winrate\", \"GPM\", \"KDA\", \"KD\", \"largestKillingSpree\", \"totalDamageDealt\",\n",
    "    \"totalDamageDealtToChampions\", \"totalDamageTaken\",\"totalTimeCrowdControlDealt\",\n",
    "    \"cs10\", \"cs20\", \"csDiff10\", \"csDiff20\", \"gpm10\", \"gpm20\", \"xpDiff10\", \"xpDiff20\"]\n",
    "\n",
    "names = [\n",
    "    \"summ_id\"\n",
    "] + feat\n",
    "\n",
    "\n",
    "df = pd.read_csv('features_players.csv', header=None, names=names)\n",
    "df.head()"
   ]
  },
  {
   "cell_type": "code",
   "execution_count": 3,
   "metadata": {
    "collapsed": false
   },
   "outputs": [],
   "source": [
    "def getHist(name):\n",
    "    # remove outliers (remove the top and bottom 1%)\n",
    "    s = df[name]\n",
    "    cleaned = s[(s > np.percentile(s,0.1)) & (s < np.percentile(s,99.9))]\n",
    "    counts, bins = np.histogram(cleaned, bins = 50)\n",
    "    return [{\"x0\": bins[i].item(), \"x1\": bins[i+1].item(), \"count\": counts[i].item()} for i in range(0, len(counts))]\n",
    "\n",
    "stats = {name: getHist(name) for name in feat}\n",
    "\n",
    "# df['totalDamageDealtToChampions'].hist(bins=100)"
   ]
  },
  {
   "cell_type": "code",
   "execution_count": 4,
   "metadata": {
    "collapsed": false
   },
   "outputs": [],
   "source": [
    "with open('../server/static/stats.json', 'w') as f:\n",
    "    f.write(json.dumps(stats))"
   ]
  },
  {
   "cell_type": "code",
   "execution_count": 5,
   "metadata": {
    "collapsed": false
   },
   "outputs": [
    {
     "data": {
      "text/plain": [
       "-4.2000000000000002"
      ]
     },
     "execution_count": 5,
     "metadata": {},
     "output_type": "execute_result"
    }
   ],
   "source": [
    "df[\"csDiff10\"].min()"
   ]
  }
 ],
 "metadata": {
  "anaconda-cloud": {},
  "kernelspec": {
   "display_name": "Python [conda root]",
   "language": "python",
   "name": "conda-root-py"
  },
  "language_info": {
   "codemirror_mode": {
    "name": "ipython",
    "version": 3
   },
   "file_extension": ".py",
   "mimetype": "text/x-python",
   "name": "python",
   "nbconvert_exporter": "python",
   "pygments_lexer": "ipython3",
   "version": "3.5.2"
  }
 },
 "nbformat": 4,
 "nbformat_minor": 1
}
